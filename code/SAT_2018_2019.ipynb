{
 "cells": [
  {
   "cell_type": "markdown",
   "metadata": {},
   "source": [
    "<img src=\"http://imgur.com/1ZcRyrc.png\" style=\"float: left; margin: 20px; height: 55px\">\n",
    "\n",
    "# Project 1: Standardized Test Analysis"
   ]
  },
  {
   "cell_type": "markdown",
   "metadata": {},
   "source": [
    "--- \n",
    "# Part 1\n",
    "\n",
    "Part 1 requires knowledge of basic Python.\n",
    "\n",
    "---"
   ]
  },
  {
   "cell_type": "markdown",
   "metadata": {},
   "source": [
    "## Problem Statement"
   ]
  },
  {
   "cell_type": "markdown",
   "metadata": {},
   "source": [
    "*Ten states and the District of Columbia require the SAT as a graduation requirement or offer its administratin free of charge. This project examines the sub-scores (Math and Evidence-Based Reading and Writing) so these states can allocate funding or make curriculum adjustments for subjects in test areas exhibiting poor sub-scores.*"
   ]
  },
  {
   "cell_type": "markdown",
   "metadata": {},
   "source": [
    "### Contents:\n",
    "- [Background](#Background)\n",
    "- [Data Import & Cleaning](#Data-Import-and-Cleaning)\n",
    "- [Exploratory Data Analysis](#Exploratory-Data-Analysis)\n",
    "- [Data Visualization](#Visualize-the-Data)\n",
    "- [Conclusions and Recommendations](#Conclusions-and-Recommendations)"
   ]
  },
  {
   "cell_type": "markdown",
   "metadata": {},
   "source": [
    "## Background"
   ]
  },
  {
   "cell_type": "markdown",
   "metadata": {},
   "source": [
    "The SAT and ACT are standardized tests that many colleges and universities in the United States require for their admissions process. This score is used along with other materials such as grade point average (GPA) and essay responses to determine whether or not a potential student will be accepted to the university.\n",
    "\n",
    "The SAT has two sections of the test: Evidence-Based Reading and Writing and Math ([*source*](https://www.princetonreview.com/college/sat-sections)). The ACT has 4 sections: English, Mathematics, Reading, and Science, with an additional optional writing section ([*source*](https://www.act.org/content/act/en/products-and-services/the-act/scores/understanding-your-scores.html)). They have different score ranges, which you can read more about on their websites or additional outside sources (a quick Google search will help you understand the scores for each test):\n",
    "* [SAT](https://collegereadiness.collegeboard.org/sat)\n",
    "* [ACT](https://www.act.org/content/act/en.html)\n",
    "\n",
    "Standardized tests have long been a controversial topic for students, administrators, and legislators. Since the 1940's, an increasing number of colleges have been using scores from sudents' performances on tests like the SAT and the ACT as a measure for college readiness and aptitude ([*source*](https://www.minotdailynews.com/news/local-news/2017/04/a-brief-history-of-the-sat-and-act/)). Supporters of these tests argue that these scores can be used as an objective measure to determine college admittance. Opponents of these tests claim that these tests are not accurate measures of students potential or ability and serve as an inequitable barrier to entry. Lately, more and more schools are opting to drop the SAT/ACT requirement for their Fall 2021 applications ([*read more about this here*](https://www.cnn.com/2020/04/14/us/coronavirus-colleges-sat-act-test-trnd/index.html))."
   ]
  },
  {
   "cell_type": "markdown",
   "metadata": {},
   "source": [
    "**-------------------------------------** \n",
    "\n",
    "\n",
    "*States that require or offer free SAT administration (1):*\n",
    "- Colorado\n",
    "- Connecticut\n",
    "- Delaware\n",
    "- District of Columbia\n",
    "- Idaho\n",
    "- Illinois\n",
    "- Maine\n",
    "- Michigan\n",
    "- New Hampshire\n",
    "- Rhode Island\n",
    "- West Virginia\n",
    "\n",
    "*Sections of the SAT include reading, writing and language, math and an optional essay (2). These sections are scored into two sub-scores: Math and Evidence-Based Reading and Writing (3).*\n",
    "\n",
    "**(1)** ***https://blog.prepscholar.com/which-states-require-the-sat***\n",
    "\n",
    "**(2)** ***https://www.princetonreview.com/college/sat-sections***\n",
    "\n",
    "**(3)** ***https://collegereadiness.collegeboard.org/pdf/understanding-sat-scores.pdf***\n"
   ]
  },
  {
   "cell_type": "markdown",
   "metadata": {},
   "source": [
    "### Choose your Data\n",
    "\n",
    "There are 10 datasets included in the [`data`](./data/) folder for this project. You are required to pick **at least two** of these to complete your analysis. Feel free to use more than two if you would like, or add other relevant datasets you find online.\n",
    "\n",
    "* [`act_2017.csv`](./data/act_2017.csv): 2017 ACT Scores by State\n",
    "* [`act_2018.csv`](./data/act_2018.csv): 2018 ACT Scores by State\n",
    "* [`act_2019.csv`](./data/act_2019.csv): 2019 ACT Scores by State\n",
    "* [`act_2019_ca.csv`](./data/act_2019_ca.csv): 2019 ACT Scores in California by School\n",
    "* [`sat_2017.csv`](./data/sat_2017.csv): 2017 SAT Scores by State\n",
    "* [`sat_2018.csv`](./data/sat_2018.csv): 2018 SAT Scores by State\n",
    "* [`sat_2019.csv`](./data/sat_2019.csv): 2019 SAT Scores by State\n",
    "* [`sat_2019_by_intended_college_major.csv`](./data/sat_2019_by_intended_college_major.csv): 2019 SAT Scores by Intended College Major\n",
    "* [`sat_2019_ca.csv`](./data/sat_2019_ca.csv): 2019 SAT Scores in California by School\n",
    "* [`sat_act_by_college.csv`](./data/sat_act_by_college.csv): Ranges of Accepted ACT & SAT Student Scores by Colleges"
   ]
  },
  {
   "cell_type": "markdown",
   "metadata": {},
   "source": [
    "**To-Do:** *Fill out this cell with the datasets you will use for your analysis. Write a brief description of the contents for each dataset that you choose.*\n",
    "\n",
    "**-------------------------------------** \n",
    "\n",
    "**Data Sets Used:**\n",
    "\n",
    "* [`sat_2017.csv`](./data/sat_2017.csv): 2017 SAT Scores by State\n",
    "* [`sat_2018.csv`](./data/sat_2018.csv): 2018 SAT Scores by State\n",
    "* [`sat_2019.csv`](./data/sat_2019.csv): 2019 SAT Scores by State\n",
    "\n",
    "*Each dataset contains a row for a unique state, district, or territory.*  \n",
    "\n",
    "*Columns include:*\n",
    "- state/territory name \n",
    "- participation rate for that state/territory\n",
    "- mean scores for all test-takers in that state broken down by:\n",
    "    - Evidence-Based Reading and Writing subscore\n",
    "    - Math section subscore (range of 200 - 800)\n",
    "    - Total score (range of 400 - 1600)\n"
   ]
  },
  {
   "cell_type": "markdown",
   "metadata": {},
   "source": [
    "### Outside Research"
   ]
  },
  {
   "cell_type": "markdown",
   "metadata": {},
   "source": [
    "*This analyses is limited to states/territories that require the SAT for graduation OR offered the test free of charge. These states/territories have a 94 percent and above participation rate. The goal was to avoid any self-selection bias (4) where motivated or college-bound students are the only individuals taking the SAT. Such bias has potential to skew results.*\n",
    "\n",
    "*Other research illustrates the effect of self-selection bias and notes \"...a strong negative relationship between participation rate and average SAT score...\" where \"...the higher the percentage of students taking the test in a given state, the lower the average score (5).\" This research attempts to avoid this effect by only looking at states with the SAT requirement and thus, a high rate of participation.*"
   ]
  },
  {
   "cell_type": "markdown",
   "metadata": {},
   "source": [
    "### Coding Challenges"
   ]
  },
  {
   "cell_type": "markdown",
   "metadata": {},
   "source": [
    "#### Creating a function to calculate the mean"
   ]
  },
  {
   "cell_type": "code",
   "execution_count": 72,
   "metadata": {},
   "outputs": [],
   "source": [
    "# Creating a function to manually calculate the mean of a list or column:\n",
    "def find_mean(input_list):\n",
    "    count = 0\n",
    "    for number in input_list:\n",
    "        count = count + number       \n",
    "    mean = count / len(input_list)    \n",
    "    return mean"
   ]
  },
  {
   "cell_type": "code",
   "execution_count": 73,
   "metadata": {},
   "outputs": [
    {
     "data": {
      "text/plain": [
       "8.0"
      ]
     },
     "execution_count": 73,
     "metadata": {},
     "output_type": "execute_result"
    }
   ],
   "source": [
    "# Checking to see if the function operates as expected\n",
    "find_mean([10, 8, 10, 8, 8, 4])"
   ]
  },
  {
   "cell_type": "code",
   "execution_count": 74,
   "metadata": {},
   "outputs": [
    {
     "data": {
      "text/plain": [
       "3.0"
      ]
     },
     "execution_count": 74,
     "metadata": {},
     "output_type": "execute_result"
    }
   ],
   "source": [
    "find_mean([2,3,4])"
   ]
  },
  {
   "cell_type": "code",
   "execution_count": 75,
   "metadata": {},
   "outputs": [
    {
     "data": {
      "text/plain": [
       "300.0"
      ]
     },
     "execution_count": 75,
     "metadata": {},
     "output_type": "execute_result"
    }
   ],
   "source": [
    "find_mean([200,300,400])"
   ]
  },
  {
   "cell_type": "code",
   "execution_count": 76,
   "metadata": {},
   "outputs": [
    {
     "data": {
      "text/plain": [
       "309.0"
      ]
     },
     "execution_count": 76,
     "metadata": {},
     "output_type": "execute_result"
    }
   ],
   "source": [
    "find_mean(range(56,564,2))"
   ]
  },
  {
   "cell_type": "markdown",
   "metadata": {},
   "source": [
    "#### Creating a function to calculate the standard deviation"
   ]
  },
  {
   "cell_type": "markdown",
   "metadata": {},
   "source": [
    "2. Manually calculate standard deviation:\n",
    "\n",
    "    The formula for standard deviation is below:\n",
    "\n",
    "    $$\\sigma = \\sqrt{\\frac{1}{n}\\sum_{i=1}^n(x_i - \\mu)^2}$$\n",
    "\n",
    "    Where $x_i$ represents each value in the dataset, $\\mu$ represents the mean of all values in the dataset and $n$ represents the number of values in the dataset."
   ]
  },
  {
   "cell_type": "code",
   "execution_count": 77,
   "metadata": {},
   "outputs": [],
   "source": [
    "# Creating a function to manually calculate the standard deviation of a list or column:\n",
    "# How to manually calculate standard deviation:\n",
    "# https://www.wikihow.com/Calculate-Standard-Deviation\n",
    "def std_dev(input_list):\n",
    "    mean = find_mean(input_list)\n",
    "    sum_of_sqs = 0\n",
    "    for number in input_list:\n",
    "        # (1) find the variance for the data (data point - mean)        \n",
    "        # (2) find the sum of squares: (data point - mean)^2\n",
    "        sum_of_sqs = sum_of_sqs + (number - mean)**2        \n",
    "    \n",
    "    # find sample variance sum of squares / (number in sample - 1):\n",
    "    variance = sum_of_sqs / (len(input_list)-1)\n",
    "    \n",
    "    # find standard deviation (take the square root of the variance)\n",
    "    std_d = variance**0.5\n",
    "    \n",
    "    return std_d\n"
   ]
  },
  {
   "cell_type": "code",
   "execution_count": 78,
   "metadata": {},
   "outputs": [
    {
     "data": {
      "text/plain": [
       "2.1908902300206643"
      ]
     },
     "execution_count": 78,
     "metadata": {},
     "output_type": "execute_result"
    }
   ],
   "source": [
    "# Checking to see if the function operates as expected\n",
    "std_dev([10, 8, 10, 8, 8, 4])"
   ]
  },
  {
   "cell_type": "code",
   "execution_count": 79,
   "metadata": {},
   "outputs": [
    {
     "data": {
      "text/plain": [
       "1.0"
      ]
     },
     "execution_count": 79,
     "metadata": {},
     "output_type": "execute_result"
    }
   ],
   "source": [
    "std_dev([2,3,4])"
   ]
  },
  {
   "cell_type": "code",
   "execution_count": 80,
   "metadata": {},
   "outputs": [
    {
     "data": {
      "text/plain": [
       "100.0"
      ]
     },
     "execution_count": 80,
     "metadata": {},
     "output_type": "execute_result"
    }
   ],
   "source": [
    "std_dev([200,300,400])"
   ]
  },
  {
   "cell_type": "code",
   "execution_count": 81,
   "metadata": {},
   "outputs": [
    {
     "data": {
      "text/plain": [
       "146.935359937627"
      ]
     },
     "execution_count": 81,
     "metadata": {},
     "output_type": "execute_result"
    }
   ],
   "source": [
    "std_dev(range(56,564,2))"
   ]
  },
  {
   "cell_type": "markdown",
   "metadata": {},
   "source": [
    "#### Data cleaning function:\n",
    "    \n",
    "    Write a function that takes in a string that is a number and a percent symbol (ex. '50%', '30.5%', etc.) and converts this to a float that is the decimal approximation of the percent. For example, inputting '50%' in your function should return 0.5, '30.5%' should return 0.305, etc. Make sure to test your function to make sure it works!"
   ]
  },
  {
   "cell_type": "code",
   "execution_count": 82,
   "metadata": {},
   "outputs": [],
   "source": [
    "# Creating a function to manually convert string input into a float value:\n",
    "def convert_percent(input):\n",
    "    integer = input[:-1]\n",
    "    decimal_percent = float(integer)/100\n",
    "    return decimal_percent"
   ]
  },
  {
   "cell_type": "code",
   "execution_count": 83,
   "metadata": {},
   "outputs": [
    {
     "data": {
      "text/plain": [
       "0.45799999999999996"
      ]
     },
     "execution_count": 83,
     "metadata": {},
     "output_type": "execute_result"
    }
   ],
   "source": [
    "# Checking to see if the function operates as expected\n",
    "convert_percent('45.8%')"
   ]
  },
  {
   "cell_type": "markdown",
   "metadata": {},
   "source": [
    "--- \n",
    "# Part 2\n",
    "\n",
    "Pandas, EDA, data cleaning, and data visualization.\n",
    "\n",
    "---"
   ]
  },
  {
   "cell_type": "code",
   "execution_count": 84,
   "metadata": {},
   "outputs": [],
   "source": [
    "# Importing needed libraries\n",
    "import numpy as np\n",
    "import pandas as pd\n",
    "import seaborn as sns\n",
    "import matplotlib.pyplot as plt\n",
    "# Import matplotlib's Gridspec which allows you to specify where plots go on a grid space\n",
    "from matplotlib.gridspec import GridSpec\n"
   ]
  },
  {
   "cell_type": "markdown",
   "metadata": {},
   "source": [
    "## Data Import and Cleaning"
   ]
  },
  {
   "cell_type": "markdown",
   "metadata": {},
   "source": [
    "### Data Import & Cleaning\n",
    "\n",
    "Import the datasets that you selected for this project and go through the following steps at a minimum. You are welcome to do further cleaning as you feel necessary:\n",
    "1. Display the data: print the first 5 rows of each dataframe to your Jupyter notebook.\n",
    "2. Check for missing values.\n",
    "3. Check for any obvious issues with the observations (keep in mind the minimum & maximum possible values for each test/subtest).\n",
    "4. Fix any errors you identified in steps 2-3.\n",
    "5. Display the data types of each feature.\n",
    "6. Fix any incorrect data types found in step 5.\n",
    "    - Fix any individual values preventing other columns from being the appropriate type.\n",
    "    - If your dataset has a column of percents (ex. '50%', '30.5%', etc.), use the function you wrote in Part 1 (coding challenges, number 3) to convert this to floats! *Hint*: use `.map()` or `.apply()`.\n",
    "7. Rename Columns.\n",
    "    - Column names should be all lowercase.\n",
    "    - Column names should not contain spaces (underscores will suffice--this allows for using the `df.column_name` method to access columns in addition to `df['column_name']`).\n",
    "    - Column names should be unique and informative.\n",
    "8. Drop unnecessary rows (if needed).\n",
    "9. Merge dataframes that can be merged.\n",
    "10. Perform any additional cleaning that you feel is necessary.\n",
    "11. Save your cleaned and merged dataframes as csv files."
   ]
  },
  {
   "cell_type": "code",
   "execution_count": 85,
   "metadata": {},
   "outputs": [
    {
     "data": {
      "text/html": [
       "<div>\n",
       "<style scoped>\n",
       "    .dataframe tbody tr th:only-of-type {\n",
       "        vertical-align: middle;\n",
       "    }\n",
       "\n",
       "    .dataframe tbody tr th {\n",
       "        vertical-align: top;\n",
       "    }\n",
       "\n",
       "    .dataframe thead th {\n",
       "        text-align: right;\n",
       "    }\n",
       "</style>\n",
       "<table border=\"1\" class=\"dataframe\">\n",
       "  <thead>\n",
       "    <tr style=\"text-align: right;\">\n",
       "      <th></th>\n",
       "      <th>State</th>\n",
       "      <th>Participation</th>\n",
       "      <th>Evidence-Based Reading and Writing</th>\n",
       "      <th>Math</th>\n",
       "      <th>Total</th>\n",
       "    </tr>\n",
       "  </thead>\n",
       "  <tbody>\n",
       "    <tr>\n",
       "      <th>0</th>\n",
       "      <td>Alabama</td>\n",
       "      <td>5%</td>\n",
       "      <td>593</td>\n",
       "      <td>572</td>\n",
       "      <td>1165</td>\n",
       "    </tr>\n",
       "    <tr>\n",
       "      <th>1</th>\n",
       "      <td>Alaska</td>\n",
       "      <td>38%</td>\n",
       "      <td>547</td>\n",
       "      <td>533</td>\n",
       "      <td>1080</td>\n",
       "    </tr>\n",
       "    <tr>\n",
       "      <th>2</th>\n",
       "      <td>Arizona</td>\n",
       "      <td>30%</td>\n",
       "      <td>563</td>\n",
       "      <td>553</td>\n",
       "      <td>1116</td>\n",
       "    </tr>\n",
       "    <tr>\n",
       "      <th>3</th>\n",
       "      <td>Arkansas</td>\n",
       "      <td>3%</td>\n",
       "      <td>614</td>\n",
       "      <td>594</td>\n",
       "      <td>1208</td>\n",
       "    </tr>\n",
       "    <tr>\n",
       "      <th>4</th>\n",
       "      <td>California</td>\n",
       "      <td>53%</td>\n",
       "      <td>531</td>\n",
       "      <td>524</td>\n",
       "      <td>1055</td>\n",
       "    </tr>\n",
       "  </tbody>\n",
       "</table>\n",
       "</div>"
      ],
      "text/plain": [
       "        State Participation  Evidence-Based Reading and Writing  Math  Total\n",
       "0     Alabama            5%                                 593   572   1165\n",
       "1      Alaska           38%                                 547   533   1080\n",
       "2     Arizona           30%                                 563   553   1116\n",
       "3    Arkansas            3%                                 614   594   1208\n",
       "4  California           53%                                 531   524   1055"
      ]
     },
     "execution_count": 85,
     "metadata": {},
     "output_type": "execute_result"
    }
   ],
   "source": [
    "# Code:\n",
    "# Read in three data sets\n",
    "sat17 = pd.read_csv(\"../data/sat_2017.csv\")\n",
    "sat18 = pd.read_csv(\"../data/sat_2018.csv\")\n",
    "sat19 = pd.read_csv(\"../data/sat_2019.csv\")\n",
    "\n",
    "# Print first five rows of the 2017 SAT dataframe\n",
    "sat17.head()"
   ]
  },
  {
   "cell_type": "code",
   "execution_count": 86,
   "metadata": {},
   "outputs": [
    {
     "data": {
      "text/plain": [
       "State                                 0\n",
       "Participation                         0\n",
       "Evidence-Based Reading and Writing    0\n",
       "Math                                  0\n",
       "Total                                 0\n",
       "dtype: int64"
      ]
     },
     "execution_count": 86,
     "metadata": {},
     "output_type": "execute_result"
    }
   ],
   "source": [
    "# check for missing values in SAT 2017 dataframe\n",
    "sat17.isnull().sum()"
   ]
  },
  {
   "cell_type": "code",
   "execution_count": 87,
   "metadata": {},
   "outputs": [
    {
     "data": {
      "text/plain": [
       "State                                 object\n",
       "Participation                         object\n",
       "Evidence-Based Reading and Writing     int64\n",
       "Math                                   int64\n",
       "Total                                  int64\n",
       "dtype: object"
      ]
     },
     "execution_count": 87,
     "metadata": {},
     "output_type": "execute_result"
    }
   ],
   "source": [
    "# Using .dtypes to see how variables are formatted in case \n",
    "# type conversion is needed\n",
    "sat17.dtypes"
   ]
  },
  {
   "cell_type": "code",
   "execution_count": 88,
   "metadata": {},
   "outputs": [
    {
     "data": {
      "text/html": [
       "<div>\n",
       "<style scoped>\n",
       "    .dataframe tbody tr th:only-of-type {\n",
       "        vertical-align: middle;\n",
       "    }\n",
       "\n",
       "    .dataframe tbody tr th {\n",
       "        vertical-align: top;\n",
       "    }\n",
       "\n",
       "    .dataframe thead th {\n",
       "        text-align: right;\n",
       "    }\n",
       "</style>\n",
       "<table border=\"1\" class=\"dataframe\">\n",
       "  <thead>\n",
       "    <tr style=\"text-align: right;\">\n",
       "      <th></th>\n",
       "      <th>State</th>\n",
       "      <th>Participation</th>\n",
       "      <th>Evidence-Based Reading and Writing</th>\n",
       "      <th>Math</th>\n",
       "      <th>Total</th>\n",
       "    </tr>\n",
       "  </thead>\n",
       "  <tbody>\n",
       "    <tr>\n",
       "      <th>0</th>\n",
       "      <td>Alabama</td>\n",
       "      <td>0.05</td>\n",
       "      <td>593</td>\n",
       "      <td>572</td>\n",
       "      <td>1165</td>\n",
       "    </tr>\n",
       "    <tr>\n",
       "      <th>1</th>\n",
       "      <td>Alaska</td>\n",
       "      <td>0.38</td>\n",
       "      <td>547</td>\n",
       "      <td>533</td>\n",
       "      <td>1080</td>\n",
       "    </tr>\n",
       "    <tr>\n",
       "      <th>2</th>\n",
       "      <td>Arizona</td>\n",
       "      <td>0.30</td>\n",
       "      <td>563</td>\n",
       "      <td>553</td>\n",
       "      <td>1116</td>\n",
       "    </tr>\n",
       "    <tr>\n",
       "      <th>3</th>\n",
       "      <td>Arkansas</td>\n",
       "      <td>0.03</td>\n",
       "      <td>614</td>\n",
       "      <td>594</td>\n",
       "      <td>1208</td>\n",
       "    </tr>\n",
       "    <tr>\n",
       "      <th>4</th>\n",
       "      <td>California</td>\n",
       "      <td>0.53</td>\n",
       "      <td>531</td>\n",
       "      <td>524</td>\n",
       "      <td>1055</td>\n",
       "    </tr>\n",
       "  </tbody>\n",
       "</table>\n",
       "</div>"
      ],
      "text/plain": [
       "        State  Participation  Evidence-Based Reading and Writing  Math  Total\n",
       "0     Alabama           0.05                                 593   572   1165\n",
       "1      Alaska           0.38                                 547   533   1080\n",
       "2     Arizona           0.30                                 563   553   1116\n",
       "3    Arkansas           0.03                                 614   594   1208\n",
       "4  California           0.53                                 531   524   1055"
      ]
     },
     "execution_count": 88,
     "metadata": {},
     "output_type": "execute_result"
    }
   ],
   "source": [
    "# Convert participation rate from string to integer\n",
    "# .replace() guidance: https://www.geeksforgeeks.org/python-string-replace/\n",
    "#sat17['Participation'] = sat17['Participation'].str.replace('%', '').astype(float)\n",
    "\n",
    "sat17['Participation'] = sat17['Participation'].map(convert_percent)\n",
    "\n",
    "sat17.head()"
   ]
  },
  {
   "cell_type": "code",
   "execution_count": 89,
   "metadata": {},
   "outputs": [
    {
     "data": {
      "text/html": [
       "<div>\n",
       "<style scoped>\n",
       "    .dataframe tbody tr th:only-of-type {\n",
       "        vertical-align: middle;\n",
       "    }\n",
       "\n",
       "    .dataframe tbody tr th {\n",
       "        vertical-align: top;\n",
       "    }\n",
       "\n",
       "    .dataframe thead th {\n",
       "        text-align: right;\n",
       "    }\n",
       "</style>\n",
       "<table border=\"1\" class=\"dataframe\">\n",
       "  <thead>\n",
       "    <tr style=\"text-align: right;\">\n",
       "      <th></th>\n",
       "      <th>Participation</th>\n",
       "      <th>Evidence-Based Reading and Writing</th>\n",
       "      <th>Math</th>\n",
       "      <th>Total</th>\n",
       "    </tr>\n",
       "  </thead>\n",
       "  <tbody>\n",
       "    <tr>\n",
       "      <th>count</th>\n",
       "      <td>51.000000</td>\n",
       "      <td>51.000000</td>\n",
       "      <td>51.000000</td>\n",
       "      <td>51.000000</td>\n",
       "    </tr>\n",
       "    <tr>\n",
       "      <th>mean</th>\n",
       "      <td>0.398039</td>\n",
       "      <td>569.117647</td>\n",
       "      <td>547.627451</td>\n",
       "      <td>1126.098039</td>\n",
       "    </tr>\n",
       "    <tr>\n",
       "      <th>std</th>\n",
       "      <td>0.352766</td>\n",
       "      <td>45.666901</td>\n",
       "      <td>84.909119</td>\n",
       "      <td>92.494812</td>\n",
       "    </tr>\n",
       "    <tr>\n",
       "      <th>min</th>\n",
       "      <td>0.020000</td>\n",
       "      <td>482.000000</td>\n",
       "      <td>52.000000</td>\n",
       "      <td>950.000000</td>\n",
       "    </tr>\n",
       "    <tr>\n",
       "      <th>25%</th>\n",
       "      <td>0.040000</td>\n",
       "      <td>533.500000</td>\n",
       "      <td>522.000000</td>\n",
       "      <td>1055.500000</td>\n",
       "    </tr>\n",
       "    <tr>\n",
       "      <th>50%</th>\n",
       "      <td>0.380000</td>\n",
       "      <td>559.000000</td>\n",
       "      <td>548.000000</td>\n",
       "      <td>1107.000000</td>\n",
       "    </tr>\n",
       "    <tr>\n",
       "      <th>75%</th>\n",
       "      <td>0.660000</td>\n",
       "      <td>613.000000</td>\n",
       "      <td>599.000000</td>\n",
       "      <td>1212.000000</td>\n",
       "    </tr>\n",
       "    <tr>\n",
       "      <th>max</th>\n",
       "      <td>1.000000</td>\n",
       "      <td>644.000000</td>\n",
       "      <td>651.000000</td>\n",
       "      <td>1295.000000</td>\n",
       "    </tr>\n",
       "  </tbody>\n",
       "</table>\n",
       "</div>"
      ],
      "text/plain": [
       "       Participation  Evidence-Based Reading and Writing        Math  \\\n",
       "count      51.000000                           51.000000   51.000000   \n",
       "mean        0.398039                          569.117647  547.627451   \n",
       "std         0.352766                           45.666901   84.909119   \n",
       "min         0.020000                          482.000000   52.000000   \n",
       "25%         0.040000                          533.500000  522.000000   \n",
       "50%         0.380000                          559.000000  548.000000   \n",
       "75%         0.660000                          613.000000  599.000000   \n",
       "max         1.000000                          644.000000  651.000000   \n",
       "\n",
       "             Total  \n",
       "count    51.000000  \n",
       "mean   1126.098039  \n",
       "std      92.494812  \n",
       "min     950.000000  \n",
       "25%    1055.500000  \n",
       "50%    1107.000000  \n",
       "75%    1212.000000  \n",
       "max    1295.000000  "
      ]
     },
     "execution_count": 89,
     "metadata": {},
     "output_type": "execute_result"
    }
   ],
   "source": [
    "# Using .described discussed in 1.08 Intro to Pandas\n",
    "# to find an outlying values\n",
    "sat17.describe()"
   ]
  },
  {
   "cell_type": "code",
   "execution_count": 90,
   "metadata": {},
   "outputs": [
    {
     "data": {
      "text/plain": [
       "State                                  object\n",
       "Participation                         float64\n",
       "Evidence-Based Reading and Writing      int64\n",
       "Math                                    int64\n",
       "Total                                   int64\n",
       "dtype: object"
      ]
     },
     "execution_count": 90,
     "metadata": {},
     "output_type": "execute_result"
    }
   ],
   "source": [
    "sat17.dtypes"
   ]
  },
  {
   "cell_type": "code",
   "execution_count": 91,
   "metadata": {},
   "outputs": [
    {
     "data": {
      "text/html": [
       "<div>\n",
       "<style scoped>\n",
       "    .dataframe tbody tr th:only-of-type {\n",
       "        vertical-align: middle;\n",
       "    }\n",
       "\n",
       "    .dataframe tbody tr th {\n",
       "        vertical-align: top;\n",
       "    }\n",
       "\n",
       "    .dataframe thead th {\n",
       "        text-align: right;\n",
       "    }\n",
       "</style>\n",
       "<table border=\"1\" class=\"dataframe\">\n",
       "  <thead>\n",
       "    <tr style=\"text-align: right;\">\n",
       "      <th></th>\n",
       "      <th>State</th>\n",
       "      <th>Participation</th>\n",
       "      <th>Evidence-Based Reading and Writing</th>\n",
       "      <th>Math</th>\n",
       "      <th>Total</th>\n",
       "    </tr>\n",
       "  </thead>\n",
       "  <tbody>\n",
       "    <tr>\n",
       "      <th>0</th>\n",
       "      <td>Alabama</td>\n",
       "      <td>6%</td>\n",
       "      <td>595</td>\n",
       "      <td>571</td>\n",
       "      <td>1166</td>\n",
       "    </tr>\n",
       "    <tr>\n",
       "      <th>1</th>\n",
       "      <td>Alaska</td>\n",
       "      <td>43%</td>\n",
       "      <td>562</td>\n",
       "      <td>544</td>\n",
       "      <td>1106</td>\n",
       "    </tr>\n",
       "    <tr>\n",
       "      <th>2</th>\n",
       "      <td>Arizona</td>\n",
       "      <td>29%</td>\n",
       "      <td>577</td>\n",
       "      <td>572</td>\n",
       "      <td>1149</td>\n",
       "    </tr>\n",
       "    <tr>\n",
       "      <th>3</th>\n",
       "      <td>Arkansas</td>\n",
       "      <td>5%</td>\n",
       "      <td>592</td>\n",
       "      <td>576</td>\n",
       "      <td>1169</td>\n",
       "    </tr>\n",
       "    <tr>\n",
       "      <th>4</th>\n",
       "      <td>California</td>\n",
       "      <td>60%</td>\n",
       "      <td>540</td>\n",
       "      <td>536</td>\n",
       "      <td>1076</td>\n",
       "    </tr>\n",
       "  </tbody>\n",
       "</table>\n",
       "</div>"
      ],
      "text/plain": [
       "        State Participation  Evidence-Based Reading and Writing  Math  Total\n",
       "0     Alabama            6%                                 595   571   1166\n",
       "1      Alaska           43%                                 562   544   1106\n",
       "2     Arizona           29%                                 577   572   1149\n",
       "3    Arkansas            5%                                 592   576   1169\n",
       "4  California           60%                                 540   536   1076"
      ]
     },
     "execution_count": 91,
     "metadata": {},
     "output_type": "execute_result"
    }
   ],
   "source": [
    "# Print first five rows of the 2018 SAT dataframe\n",
    "sat18.head()"
   ]
  },
  {
   "cell_type": "code",
   "execution_count": 92,
   "metadata": {},
   "outputs": [
    {
     "data": {
      "text/plain": [
       "State                                 0\n",
       "Participation                         0\n",
       "Evidence-Based Reading and Writing    0\n",
       "Math                                  0\n",
       "Total                                 0\n",
       "dtype: int64"
      ]
     },
     "execution_count": 92,
     "metadata": {},
     "output_type": "execute_result"
    }
   ],
   "source": [
    "# check for missing values in SAT 2018 dataframe\n",
    "sat18.isnull().sum()"
   ]
  },
  {
   "cell_type": "code",
   "execution_count": 93,
   "metadata": {},
   "outputs": [
    {
     "data": {
      "text/plain": [
       "State                                 object\n",
       "Participation                         object\n",
       "Evidence-Based Reading and Writing     int64\n",
       "Math                                   int64\n",
       "Total                                  int64\n",
       "dtype: object"
      ]
     },
     "execution_count": 93,
     "metadata": {},
     "output_type": "execute_result"
    }
   ],
   "source": [
    "# Using .dtypes to see how variables are formatted in case \n",
    "# type conversion is needed\n",
    "sat18.dtypes"
   ]
  },
  {
   "cell_type": "code",
   "execution_count": 94,
   "metadata": {},
   "outputs": [
    {
     "data": {
      "text/html": [
       "<div>\n",
       "<style scoped>\n",
       "    .dataframe tbody tr th:only-of-type {\n",
       "        vertical-align: middle;\n",
       "    }\n",
       "\n",
       "    .dataframe tbody tr th {\n",
       "        vertical-align: top;\n",
       "    }\n",
       "\n",
       "    .dataframe thead th {\n",
       "        text-align: right;\n",
       "    }\n",
       "</style>\n",
       "<table border=\"1\" class=\"dataframe\">\n",
       "  <thead>\n",
       "    <tr style=\"text-align: right;\">\n",
       "      <th></th>\n",
       "      <th>State</th>\n",
       "      <th>Participation</th>\n",
       "      <th>Evidence-Based Reading and Writing</th>\n",
       "      <th>Math</th>\n",
       "      <th>Total</th>\n",
       "    </tr>\n",
       "  </thead>\n",
       "  <tbody>\n",
       "    <tr>\n",
       "      <th>0</th>\n",
       "      <td>Alabama</td>\n",
       "      <td>0.06</td>\n",
       "      <td>595</td>\n",
       "      <td>571</td>\n",
       "      <td>1166</td>\n",
       "    </tr>\n",
       "    <tr>\n",
       "      <th>1</th>\n",
       "      <td>Alaska</td>\n",
       "      <td>0.43</td>\n",
       "      <td>562</td>\n",
       "      <td>544</td>\n",
       "      <td>1106</td>\n",
       "    </tr>\n",
       "    <tr>\n",
       "      <th>2</th>\n",
       "      <td>Arizona</td>\n",
       "      <td>0.29</td>\n",
       "      <td>577</td>\n",
       "      <td>572</td>\n",
       "      <td>1149</td>\n",
       "    </tr>\n",
       "    <tr>\n",
       "      <th>3</th>\n",
       "      <td>Arkansas</td>\n",
       "      <td>0.05</td>\n",
       "      <td>592</td>\n",
       "      <td>576</td>\n",
       "      <td>1169</td>\n",
       "    </tr>\n",
       "    <tr>\n",
       "      <th>4</th>\n",
       "      <td>California</td>\n",
       "      <td>0.60</td>\n",
       "      <td>540</td>\n",
       "      <td>536</td>\n",
       "      <td>1076</td>\n",
       "    </tr>\n",
       "  </tbody>\n",
       "</table>\n",
       "</div>"
      ],
      "text/plain": [
       "        State  Participation  Evidence-Based Reading and Writing  Math  Total\n",
       "0     Alabama           0.06                                 595   571   1166\n",
       "1      Alaska           0.43                                 562   544   1106\n",
       "2     Arizona           0.29                                 577   572   1149\n",
       "3    Arkansas           0.05                                 592   576   1169\n",
       "4  California           0.60                                 540   536   1076"
      ]
     },
     "execution_count": 94,
     "metadata": {},
     "output_type": "execute_result"
    }
   ],
   "source": [
    "# Convert participation rate from string to integer\n",
    "# .replace() guidance: https://www.geeksforgeeks.org/python-string-replace/\n",
    "#sat18['Participation'] = sat18['Participation'].str.replace('%', '').astype(float)\n",
    "sat18['Participation'] = sat18['Participation'].map(convert_percent)\n",
    "\n",
    "sat18.head()"
   ]
  },
  {
   "cell_type": "code",
   "execution_count": 95,
   "metadata": {},
   "outputs": [
    {
     "data": {
      "text/plain": [
       "State                                  object\n",
       "Participation                         float64\n",
       "Evidence-Based Reading and Writing      int64\n",
       "Math                                    int64\n",
       "Total                                   int64\n",
       "dtype: object"
      ]
     },
     "execution_count": 95,
     "metadata": {},
     "output_type": "execute_result"
    }
   ],
   "source": [
    "sat18.dtypes"
   ]
  },
  {
   "cell_type": "code",
   "execution_count": 96,
   "metadata": {},
   "outputs": [
    {
     "data": {
      "text/html": [
       "<div>\n",
       "<style scoped>\n",
       "    .dataframe tbody tr th:only-of-type {\n",
       "        vertical-align: middle;\n",
       "    }\n",
       "\n",
       "    .dataframe tbody tr th {\n",
       "        vertical-align: top;\n",
       "    }\n",
       "\n",
       "    .dataframe thead th {\n",
       "        text-align: right;\n",
       "    }\n",
       "</style>\n",
       "<table border=\"1\" class=\"dataframe\">\n",
       "  <thead>\n",
       "    <tr style=\"text-align: right;\">\n",
       "      <th></th>\n",
       "      <th>Participation</th>\n",
       "      <th>Evidence-Based Reading and Writing</th>\n",
       "      <th>Math</th>\n",
       "      <th>Total</th>\n",
       "    </tr>\n",
       "  </thead>\n",
       "  <tbody>\n",
       "    <tr>\n",
       "      <th>count</th>\n",
       "      <td>51.000000</td>\n",
       "      <td>51.000000</td>\n",
       "      <td>51.000000</td>\n",
       "      <td>51.000000</td>\n",
       "    </tr>\n",
       "    <tr>\n",
       "      <th>mean</th>\n",
       "      <td>0.457451</td>\n",
       "      <td>563.686275</td>\n",
       "      <td>556.235294</td>\n",
       "      <td>1120.019608</td>\n",
       "    </tr>\n",
       "    <tr>\n",
       "      <th>std</th>\n",
       "      <td>0.373143</td>\n",
       "      <td>47.502627</td>\n",
       "      <td>47.772623</td>\n",
       "      <td>94.155083</td>\n",
       "    </tr>\n",
       "    <tr>\n",
       "      <th>min</th>\n",
       "      <td>0.020000</td>\n",
       "      <td>480.000000</td>\n",
       "      <td>480.000000</td>\n",
       "      <td>977.000000</td>\n",
       "    </tr>\n",
       "    <tr>\n",
       "      <th>25%</th>\n",
       "      <td>0.045000</td>\n",
       "      <td>534.500000</td>\n",
       "      <td>522.500000</td>\n",
       "      <td>1057.500000</td>\n",
       "    </tr>\n",
       "    <tr>\n",
       "      <th>50%</th>\n",
       "      <td>0.520000</td>\n",
       "      <td>552.000000</td>\n",
       "      <td>544.000000</td>\n",
       "      <td>1098.000000</td>\n",
       "    </tr>\n",
       "    <tr>\n",
       "      <th>75%</th>\n",
       "      <td>0.775000</td>\n",
       "      <td>610.500000</td>\n",
       "      <td>593.500000</td>\n",
       "      <td>1204.000000</td>\n",
       "    </tr>\n",
       "    <tr>\n",
       "      <th>max</th>\n",
       "      <td>1.000000</td>\n",
       "      <td>643.000000</td>\n",
       "      <td>655.000000</td>\n",
       "      <td>1298.000000</td>\n",
       "    </tr>\n",
       "  </tbody>\n",
       "</table>\n",
       "</div>"
      ],
      "text/plain": [
       "       Participation  Evidence-Based Reading and Writing        Math  \\\n",
       "count      51.000000                           51.000000   51.000000   \n",
       "mean        0.457451                          563.686275  556.235294   \n",
       "std         0.373143                           47.502627   47.772623   \n",
       "min         0.020000                          480.000000  480.000000   \n",
       "25%         0.045000                          534.500000  522.500000   \n",
       "50%         0.520000                          552.000000  544.000000   \n",
       "75%         0.775000                          610.500000  593.500000   \n",
       "max         1.000000                          643.000000  655.000000   \n",
       "\n",
       "             Total  \n",
       "count    51.000000  \n",
       "mean   1120.019608  \n",
       "std      94.155083  \n",
       "min     977.000000  \n",
       "25%    1057.500000  \n",
       "50%    1098.000000  \n",
       "75%    1204.000000  \n",
       "max    1298.000000  "
      ]
     },
     "execution_count": 96,
     "metadata": {},
     "output_type": "execute_result"
    }
   ],
   "source": [
    "# Using .described discussed in 1.08 Intro to Pandas\n",
    "# to find an outlying values\n",
    "sat18.describe()"
   ]
  },
  {
   "cell_type": "code",
   "execution_count": 97,
   "metadata": {},
   "outputs": [
    {
     "data": {
      "text/html": [
       "<div>\n",
       "<style scoped>\n",
       "    .dataframe tbody tr th:only-of-type {\n",
       "        vertical-align: middle;\n",
       "    }\n",
       "\n",
       "    .dataframe tbody tr th {\n",
       "        vertical-align: top;\n",
       "    }\n",
       "\n",
       "    .dataframe thead th {\n",
       "        text-align: right;\n",
       "    }\n",
       "</style>\n",
       "<table border=\"1\" class=\"dataframe\">\n",
       "  <thead>\n",
       "    <tr style=\"text-align: right;\">\n",
       "      <th></th>\n",
       "      <th>State</th>\n",
       "      <th>Participation Rate</th>\n",
       "      <th>EBRW</th>\n",
       "      <th>Math</th>\n",
       "      <th>Total</th>\n",
       "    </tr>\n",
       "  </thead>\n",
       "  <tbody>\n",
       "    <tr>\n",
       "      <th>0</th>\n",
       "      <td>Alabama</td>\n",
       "      <td>7%</td>\n",
       "      <td>583</td>\n",
       "      <td>560</td>\n",
       "      <td>1143</td>\n",
       "    </tr>\n",
       "    <tr>\n",
       "      <th>1</th>\n",
       "      <td>Alaska</td>\n",
       "      <td>41%</td>\n",
       "      <td>556</td>\n",
       "      <td>541</td>\n",
       "      <td>1097</td>\n",
       "    </tr>\n",
       "    <tr>\n",
       "      <th>2</th>\n",
       "      <td>Arizona</td>\n",
       "      <td>31%</td>\n",
       "      <td>569</td>\n",
       "      <td>565</td>\n",
       "      <td>1134</td>\n",
       "    </tr>\n",
       "    <tr>\n",
       "      <th>3</th>\n",
       "      <td>Arkansas</td>\n",
       "      <td>6%</td>\n",
       "      <td>582</td>\n",
       "      <td>559</td>\n",
       "      <td>1141</td>\n",
       "    </tr>\n",
       "    <tr>\n",
       "      <th>4</th>\n",
       "      <td>California</td>\n",
       "      <td>63%</td>\n",
       "      <td>534</td>\n",
       "      <td>531</td>\n",
       "      <td>1065</td>\n",
       "    </tr>\n",
       "  </tbody>\n",
       "</table>\n",
       "</div>"
      ],
      "text/plain": [
       "        State Participation Rate  EBRW  Math  Total\n",
       "0     Alabama                 7%   583   560   1143\n",
       "1      Alaska                41%   556   541   1097\n",
       "2     Arizona                31%   569   565   1134\n",
       "3    Arkansas                 6%   582   559   1141\n",
       "4  California                63%   534   531   1065"
      ]
     },
     "execution_count": 97,
     "metadata": {},
     "output_type": "execute_result"
    }
   ],
   "source": [
    "# Print first five rows of the 2019 SAT dataframe\n",
    "sat19.head()"
   ]
  },
  {
   "cell_type": "code",
   "execution_count": 98,
   "metadata": {},
   "outputs": [
    {
     "data": {
      "text/plain": [
       "State                 0\n",
       "Participation Rate    0\n",
       "EBRW                  0\n",
       "Math                  0\n",
       "Total                 0\n",
       "dtype: int64"
      ]
     },
     "execution_count": 98,
     "metadata": {},
     "output_type": "execute_result"
    }
   ],
   "source": [
    "# check for missing values in SAT 2019 dataframe\n",
    "sat19.isnull().sum()"
   ]
  },
  {
   "cell_type": "code",
   "execution_count": 99,
   "metadata": {},
   "outputs": [
    {
     "data": {
      "text/plain": [
       "State                 object\n",
       "Participation Rate    object\n",
       "EBRW                   int64\n",
       "Math                   int64\n",
       "Total                  int64\n",
       "dtype: object"
      ]
     },
     "execution_count": 99,
     "metadata": {},
     "output_type": "execute_result"
    }
   ],
   "source": [
    "# Using .dtypes to see how variables are formatted in case \n",
    "# type conversion is needed\n",
    "sat19.dtypes"
   ]
  },
  {
   "cell_type": "code",
   "execution_count": 100,
   "metadata": {},
   "outputs": [
    {
     "data": {
      "text/html": [
       "<div>\n",
       "<style scoped>\n",
       "    .dataframe tbody tr th:only-of-type {\n",
       "        vertical-align: middle;\n",
       "    }\n",
       "\n",
       "    .dataframe tbody tr th {\n",
       "        vertical-align: top;\n",
       "    }\n",
       "\n",
       "    .dataframe thead th {\n",
       "        text-align: right;\n",
       "    }\n",
       "</style>\n",
       "<table border=\"1\" class=\"dataframe\">\n",
       "  <thead>\n",
       "    <tr style=\"text-align: right;\">\n",
       "      <th></th>\n",
       "      <th>State</th>\n",
       "      <th>Participation Rate</th>\n",
       "      <th>EBRW</th>\n",
       "      <th>Math</th>\n",
       "      <th>Total</th>\n",
       "    </tr>\n",
       "  </thead>\n",
       "  <tbody>\n",
       "    <tr>\n",
       "      <th>0</th>\n",
       "      <td>Alabama</td>\n",
       "      <td>0.07</td>\n",
       "      <td>583</td>\n",
       "      <td>560</td>\n",
       "      <td>1143</td>\n",
       "    </tr>\n",
       "    <tr>\n",
       "      <th>1</th>\n",
       "      <td>Alaska</td>\n",
       "      <td>0.41</td>\n",
       "      <td>556</td>\n",
       "      <td>541</td>\n",
       "      <td>1097</td>\n",
       "    </tr>\n",
       "    <tr>\n",
       "      <th>2</th>\n",
       "      <td>Arizona</td>\n",
       "      <td>0.31</td>\n",
       "      <td>569</td>\n",
       "      <td>565</td>\n",
       "      <td>1134</td>\n",
       "    </tr>\n",
       "    <tr>\n",
       "      <th>3</th>\n",
       "      <td>Arkansas</td>\n",
       "      <td>0.06</td>\n",
       "      <td>582</td>\n",
       "      <td>559</td>\n",
       "      <td>1141</td>\n",
       "    </tr>\n",
       "    <tr>\n",
       "      <th>4</th>\n",
       "      <td>California</td>\n",
       "      <td>0.63</td>\n",
       "      <td>534</td>\n",
       "      <td>531</td>\n",
       "      <td>1065</td>\n",
       "    </tr>\n",
       "  </tbody>\n",
       "</table>\n",
       "</div>"
      ],
      "text/plain": [
       "        State  Participation Rate  EBRW  Math  Total\n",
       "0     Alabama                0.07   583   560   1143\n",
       "1      Alaska                0.41   556   541   1097\n",
       "2     Arizona                0.31   569   565   1134\n",
       "3    Arkansas                0.06   582   559   1141\n",
       "4  California                0.63   534   531   1065"
      ]
     },
     "execution_count": 100,
     "metadata": {},
     "output_type": "execute_result"
    }
   ],
   "source": [
    "# Convert participation rate from string to integer\n",
    "# .replace() guidance: https://www.geeksforgeeks.org/python-string-replace/\n",
    "\n",
    "sat19['Participation Rate'] = sat19['Participation Rate'].str.replace('%', '')\n",
    "\n",
    "# Need to convert '-' found in Puerto Rico & Virgin Islands to NaN\n",
    "# Code help drawn from 2.03 EDA lesson\n",
    "def convert_participation(input):\n",
    "    try:\n",
    "        return float(input)\n",
    "    except:\n",
    "        return np.nan  \n",
    "    \n",
    "sat19['Participation Rate'] = sat19['Participation Rate'].map(convert_participation)\n",
    "\n",
    "sat19['Participation Rate'] = sat19['Participation Rate']/100\n",
    "\n",
    "sat19.head()"
   ]
  },
  {
   "cell_type": "code",
   "execution_count": 101,
   "metadata": {},
   "outputs": [
    {
     "data": {
      "text/plain": [
       "State                  object\n",
       "Participation Rate    float64\n",
       "EBRW                    int64\n",
       "Math                    int64\n",
       "Total                   int64\n",
       "dtype: object"
      ]
     },
     "execution_count": 101,
     "metadata": {},
     "output_type": "execute_result"
    }
   ],
   "source": [
    "# Using .described discussed in 1.08 Intro to Pandas\n",
    "# to find an outlying values\n",
    "sat19.dtypes"
   ]
  },
  {
   "cell_type": "markdown",
   "metadata": {},
   "source": [
    "### Renaming Columns"
   ]
  },
  {
   "cell_type": "code",
   "execution_count": 102,
   "metadata": {},
   "outputs": [],
   "source": [
    "# Changing Column names using the Dictionary Method\n",
    "# Code assistance drawn from lesson 2.03 EDA\n",
    "sat17_dict = {\n",
    "    'State': 'state',\n",
    "    'Participation': 'participation_rate_17',\n",
    "    'Evidence-Based Reading and Writing': 'ebrw_score_17',\n",
    "    'Math': 'math_score_17',\n",
    "    'Total': 'total_score_17'\n",
    "}\n",
    "\n",
    "sat18_dict = {\n",
    "    'State': 'state',\n",
    "    'Participation': 'participation_rate_18',\n",
    "    'Evidence-Based Reading and Writing': 'ebrw_score_18',\n",
    "    'Math': 'math_score_18',\n",
    "    'Total': 'total_score_18'\n",
    "}\n",
    "sat19_dict = {\n",
    "    'State': 'state',\n",
    "    'Participation Rate': 'participation_rate_19',\n",
    "    'EBRW': 'ebrw_score_19',\n",
    "    'Math': 'math_score_19',\n",
    "    'Total': 'total_score_19'\n",
    "}\n",
    "\n",
    "sat17.rename(columns = sat17_dict, inplace = True)\n",
    "sat18.rename(columns = sat18_dict, inplace = True)\n",
    "sat19.rename(columns = sat19_dict, inplace = True)"
   ]
  },
  {
   "cell_type": "code",
   "execution_count": 103,
   "metadata": {},
   "outputs": [
    {
     "name": "stdout",
     "output_type": "stream",
     "text": [
      "state                     object\n",
      "participation_rate_17    float64\n",
      "ebrw_score_17              int64\n",
      "math_score_17              int64\n",
      "total_score_17             int64\n",
      "dtype: object \n",
      " state                     object\n",
      "participation_rate_18    float64\n",
      "ebrw_score_18              int64\n",
      "math_score_18              int64\n",
      "total_score_18             int64\n",
      "dtype: object \n",
      " state                     object\n",
      "participation_rate_19    float64\n",
      "ebrw_score_19              int64\n",
      "math_score_19              int64\n",
      "total_score_19             int64\n",
      "dtype: object\n"
     ]
    }
   ],
   "source": [
    "# Checking to see if dictionary updates were successful and match across dataframes\n",
    "print(sat17.dtypes,'\\n', sat18.dtypes, '\\n', sat19.dtypes)"
   ]
  },
  {
   "cell_type": "markdown",
   "metadata": {},
   "source": [
    "### Dropping unneeded rows"
   ]
  },
  {
   "cell_type": "code",
   "execution_count": 104,
   "metadata": {},
   "outputs": [],
   "source": [
    "# Creating a list of states that will be used for analyses\n",
    "states_keep = ['Colorado', 'Connecticut', 'Delaware', 'District of Columbia', \n",
    "               'Idaho', 'Illinois', 'Maine', 'Michigan', 'New Hampshire', \n",
    "               'Rhode Island', 'West Virginia']\n",
    "\n",
    "# Extracting list of states from the SAT 2017, SAT 2018, SAT 2019 dataframes\n",
    "# .loc help drawn from Lesson 1.08 Intro to Pandas\n",
    "# Additional help on how to use .loc drawn from: \n",
    "# https://www.geeksforgeeks.org/select-rows-columns-by-name-or-index-in-pandas-dataframe-using-loc-iloc/\n",
    "# .loc needed a new index set\n",
    "sat17.set_index('state', inplace = True) \n",
    "sat17_final = sat17.loc[states_keep]\n",
    "\n",
    "sat18.set_index('state', inplace=True)\n",
    "sat18_final = sat18.loc[states_keep]\n",
    "\n",
    "sat19.set_index('state', inplace=True)\n",
    "sat19_final = sat19.loc[states_keep]"
   ]
  },
  {
   "cell_type": "code",
   "execution_count": 105,
   "metadata": {},
   "outputs": [
    {
     "data": {
      "text/html": [
       "<div>\n",
       "<style scoped>\n",
       "    .dataframe tbody tr th:only-of-type {\n",
       "        vertical-align: middle;\n",
       "    }\n",
       "\n",
       "    .dataframe tbody tr th {\n",
       "        vertical-align: top;\n",
       "    }\n",
       "\n",
       "    .dataframe thead th {\n",
       "        text-align: right;\n",
       "    }\n",
       "</style>\n",
       "<table border=\"1\" class=\"dataframe\">\n",
       "  <thead>\n",
       "    <tr style=\"text-align: right;\">\n",
       "      <th></th>\n",
       "      <th>participation_rate_17</th>\n",
       "      <th>ebrw_score_17</th>\n",
       "      <th>math_score_17</th>\n",
       "      <th>total_score_17</th>\n",
       "    </tr>\n",
       "    <tr>\n",
       "      <th>state</th>\n",
       "      <th></th>\n",
       "      <th></th>\n",
       "      <th></th>\n",
       "      <th></th>\n",
       "    </tr>\n",
       "  </thead>\n",
       "  <tbody>\n",
       "    <tr>\n",
       "      <th>Colorado</th>\n",
       "      <td>0.11</td>\n",
       "      <td>606</td>\n",
       "      <td>595</td>\n",
       "      <td>1201</td>\n",
       "    </tr>\n",
       "    <tr>\n",
       "      <th>Connecticut</th>\n",
       "      <td>1.00</td>\n",
       "      <td>530</td>\n",
       "      <td>512</td>\n",
       "      <td>1041</td>\n",
       "    </tr>\n",
       "    <tr>\n",
       "      <th>Delaware</th>\n",
       "      <td>1.00</td>\n",
       "      <td>503</td>\n",
       "      <td>492</td>\n",
       "      <td>996</td>\n",
       "    </tr>\n",
       "    <tr>\n",
       "      <th>District of Columbia</th>\n",
       "      <td>1.00</td>\n",
       "      <td>482</td>\n",
       "      <td>468</td>\n",
       "      <td>950</td>\n",
       "    </tr>\n",
       "    <tr>\n",
       "      <th>Idaho</th>\n",
       "      <td>0.93</td>\n",
       "      <td>513</td>\n",
       "      <td>493</td>\n",
       "      <td>1005</td>\n",
       "    </tr>\n",
       "    <tr>\n",
       "      <th>Illinois</th>\n",
       "      <td>0.09</td>\n",
       "      <td>559</td>\n",
       "      <td>556</td>\n",
       "      <td>1115</td>\n",
       "    </tr>\n",
       "    <tr>\n",
       "      <th>Maine</th>\n",
       "      <td>0.95</td>\n",
       "      <td>513</td>\n",
       "      <td>499</td>\n",
       "      <td>1012</td>\n",
       "    </tr>\n",
       "    <tr>\n",
       "      <th>Michigan</th>\n",
       "      <td>1.00</td>\n",
       "      <td>509</td>\n",
       "      <td>495</td>\n",
       "      <td>1005</td>\n",
       "    </tr>\n",
       "    <tr>\n",
       "      <th>New Hampshire</th>\n",
       "      <td>0.96</td>\n",
       "      <td>532</td>\n",
       "      <td>520</td>\n",
       "      <td>1052</td>\n",
       "    </tr>\n",
       "    <tr>\n",
       "      <th>Rhode Island</th>\n",
       "      <td>0.71</td>\n",
       "      <td>539</td>\n",
       "      <td>524</td>\n",
       "      <td>1062</td>\n",
       "    </tr>\n",
       "    <tr>\n",
       "      <th>West Virginia</th>\n",
       "      <td>0.14</td>\n",
       "      <td>558</td>\n",
       "      <td>528</td>\n",
       "      <td>1086</td>\n",
       "    </tr>\n",
       "  </tbody>\n",
       "</table>\n",
       "</div>"
      ],
      "text/plain": [
       "                      participation_rate_17  ebrw_score_17  math_score_17  \\\n",
       "state                                                                       \n",
       "Colorado                               0.11            606            595   \n",
       "Connecticut                            1.00            530            512   \n",
       "Delaware                               1.00            503            492   \n",
       "District of Columbia                   1.00            482            468   \n",
       "Idaho                                  0.93            513            493   \n",
       "Illinois                               0.09            559            556   \n",
       "Maine                                  0.95            513            499   \n",
       "Michigan                               1.00            509            495   \n",
       "New Hampshire                          0.96            532            520   \n",
       "Rhode Island                           0.71            539            524   \n",
       "West Virginia                          0.14            558            528   \n",
       "\n",
       "                      total_score_17  \n",
       "state                                 \n",
       "Colorado                        1201  \n",
       "Connecticut                     1041  \n",
       "Delaware                         996  \n",
       "District of Columbia             950  \n",
       "Idaho                           1005  \n",
       "Illinois                        1115  \n",
       "Maine                           1012  \n",
       "Michigan                        1005  \n",
       "New Hampshire                   1052  \n",
       "Rhode Island                    1062  \n",
       "West Virginia                   1086  "
      ]
     },
     "execution_count": 105,
     "metadata": {},
     "output_type": "execute_result"
    }
   ],
   "source": [
    "# Confirming that dataframe has been filtered correctly for each SAT year\n",
    "sat17_final.head(15)\n",
    "#sat18_final.head(15)\n",
    "#sat19_final.head(15)"
   ]
  },
  {
   "cell_type": "markdown",
   "metadata": {},
   "source": [
    "After careful consideration, the decision was made to exclude 2017 data from the final dataframe. This decision was made after several cycles through the cleaning and exploration process. While several states required the SAT in 2017, several others did not and the results of this skew the findings due to SAT tester selection bias (noted above). Such skewed results do not add value to the stakeholders' understanding of how to improve their own state-level SAT scores."
   ]
  },
  {
   "cell_type": "markdown",
   "metadata": {},
   "source": [
    "### Merging the Dataframes"
   ]
  },
  {
   "cell_type": "code",
   "execution_count": 106,
   "metadata": {},
   "outputs": [
    {
     "data": {
      "text/html": [
       "<div>\n",
       "<style scoped>\n",
       "    .dataframe tbody tr th:only-of-type {\n",
       "        vertical-align: middle;\n",
       "    }\n",
       "\n",
       "    .dataframe tbody tr th {\n",
       "        vertical-align: top;\n",
       "    }\n",
       "\n",
       "    .dataframe thead th {\n",
       "        text-align: right;\n",
       "    }\n",
       "</style>\n",
       "<table border=\"1\" class=\"dataframe\">\n",
       "  <thead>\n",
       "    <tr style=\"text-align: right;\">\n",
       "      <th></th>\n",
       "      <th>participation_rate_18</th>\n",
       "      <th>ebrw_score_18</th>\n",
       "      <th>math_score_18</th>\n",
       "      <th>total_score_18</th>\n",
       "      <th>participation_rate_19</th>\n",
       "      <th>ebrw_score_19</th>\n",
       "      <th>math_score_19</th>\n",
       "      <th>total_score_19</th>\n",
       "    </tr>\n",
       "    <tr>\n",
       "      <th>state</th>\n",
       "      <th></th>\n",
       "      <th></th>\n",
       "      <th></th>\n",
       "      <th></th>\n",
       "      <th></th>\n",
       "      <th></th>\n",
       "      <th></th>\n",
       "      <th></th>\n",
       "    </tr>\n",
       "  </thead>\n",
       "  <tbody>\n",
       "    <tr>\n",
       "      <th>Colorado</th>\n",
       "      <td>1.00</td>\n",
       "      <td>519</td>\n",
       "      <td>506</td>\n",
       "      <td>1025</td>\n",
       "      <td>1.00</td>\n",
       "      <td>518</td>\n",
       "      <td>506</td>\n",
       "      <td>1024</td>\n",
       "    </tr>\n",
       "    <tr>\n",
       "      <th>Connecticut</th>\n",
       "      <td>1.00</td>\n",
       "      <td>535</td>\n",
       "      <td>519</td>\n",
       "      <td>1053</td>\n",
       "      <td>1.00</td>\n",
       "      <td>529</td>\n",
       "      <td>516</td>\n",
       "      <td>1046</td>\n",
       "    </tr>\n",
       "    <tr>\n",
       "      <th>Delaware</th>\n",
       "      <td>1.00</td>\n",
       "      <td>505</td>\n",
       "      <td>492</td>\n",
       "      <td>998</td>\n",
       "      <td>1.00</td>\n",
       "      <td>499</td>\n",
       "      <td>486</td>\n",
       "      <td>985</td>\n",
       "    </tr>\n",
       "    <tr>\n",
       "      <th>District of Columbia</th>\n",
       "      <td>0.92</td>\n",
       "      <td>497</td>\n",
       "      <td>480</td>\n",
       "      <td>977</td>\n",
       "      <td>0.94</td>\n",
       "      <td>495</td>\n",
       "      <td>480</td>\n",
       "      <td>975</td>\n",
       "    </tr>\n",
       "    <tr>\n",
       "      <th>Idaho</th>\n",
       "      <td>1.00</td>\n",
       "      <td>508</td>\n",
       "      <td>493</td>\n",
       "      <td>1001</td>\n",
       "      <td>1.00</td>\n",
       "      <td>505</td>\n",
       "      <td>488</td>\n",
       "      <td>993</td>\n",
       "    </tr>\n",
       "    <tr>\n",
       "      <th>Illinois</th>\n",
       "      <td>0.99</td>\n",
       "      <td>513</td>\n",
       "      <td>506</td>\n",
       "      <td>1019</td>\n",
       "      <td>1.00</td>\n",
       "      <td>509</td>\n",
       "      <td>504</td>\n",
       "      <td>1013</td>\n",
       "    </tr>\n",
       "    <tr>\n",
       "      <th>Maine</th>\n",
       "      <td>0.99</td>\n",
       "      <td>512</td>\n",
       "      <td>501</td>\n",
       "      <td>1013</td>\n",
       "      <td>0.99</td>\n",
       "      <td>512</td>\n",
       "      <td>502</td>\n",
       "      <td>1013</td>\n",
       "    </tr>\n",
       "    <tr>\n",
       "      <th>Michigan</th>\n",
       "      <td>1.00</td>\n",
       "      <td>511</td>\n",
       "      <td>499</td>\n",
       "      <td>1011</td>\n",
       "      <td>1.00</td>\n",
       "      <td>507</td>\n",
       "      <td>496</td>\n",
       "      <td>1003</td>\n",
       "    </tr>\n",
       "    <tr>\n",
       "      <th>New Hampshire</th>\n",
       "      <td>0.96</td>\n",
       "      <td>535</td>\n",
       "      <td>528</td>\n",
       "      <td>1063</td>\n",
       "      <td>0.95</td>\n",
       "      <td>533</td>\n",
       "      <td>526</td>\n",
       "      <td>1059</td>\n",
       "    </tr>\n",
       "    <tr>\n",
       "      <th>Rhode Island</th>\n",
       "      <td>0.97</td>\n",
       "      <td>513</td>\n",
       "      <td>505</td>\n",
       "      <td>1018</td>\n",
       "      <td>1.00</td>\n",
       "      <td>503</td>\n",
       "      <td>492</td>\n",
       "      <td>995</td>\n",
       "    </tr>\n",
       "    <tr>\n",
       "      <th>West Virginia</th>\n",
       "      <td>0.28</td>\n",
       "      <td>513</td>\n",
       "      <td>486</td>\n",
       "      <td>999</td>\n",
       "      <td>0.99</td>\n",
       "      <td>483</td>\n",
       "      <td>460</td>\n",
       "      <td>943</td>\n",
       "    </tr>\n",
       "  </tbody>\n",
       "</table>\n",
       "</div>"
      ],
      "text/plain": [
       "                      participation_rate_18  ebrw_score_18  math_score_18  \\\n",
       "state                                                                       \n",
       "Colorado                               1.00            519            506   \n",
       "Connecticut                            1.00            535            519   \n",
       "Delaware                               1.00            505            492   \n",
       "District of Columbia                   0.92            497            480   \n",
       "Idaho                                  1.00            508            493   \n",
       "Illinois                               0.99            513            506   \n",
       "Maine                                  0.99            512            501   \n",
       "Michigan                               1.00            511            499   \n",
       "New Hampshire                          0.96            535            528   \n",
       "Rhode Island                           0.97            513            505   \n",
       "West Virginia                          0.28            513            486   \n",
       "\n",
       "                      total_score_18  participation_rate_19  ebrw_score_19  \\\n",
       "state                                                                        \n",
       "Colorado                        1025                   1.00            518   \n",
       "Connecticut                     1053                   1.00            529   \n",
       "Delaware                         998                   1.00            499   \n",
       "District of Columbia             977                   0.94            495   \n",
       "Idaho                           1001                   1.00            505   \n",
       "Illinois                        1019                   1.00            509   \n",
       "Maine                           1013                   0.99            512   \n",
       "Michigan                        1011                   1.00            507   \n",
       "New Hampshire                   1063                   0.95            533   \n",
       "Rhode Island                    1018                   1.00            503   \n",
       "West Virginia                    999                   0.99            483   \n",
       "\n",
       "                      math_score_19  total_score_19  \n",
       "state                                                \n",
       "Colorado                        506            1024  \n",
       "Connecticut                     516            1046  \n",
       "Delaware                        486             985  \n",
       "District of Columbia            480             975  \n",
       "Idaho                           488             993  \n",
       "Illinois                        504            1013  \n",
       "Maine                           502            1013  \n",
       "Michigan                        496            1003  \n",
       "New Hampshire                   526            1059  \n",
       "Rhode Island                    492             995  \n",
       "West Virginia                   460             943  "
      ]
     },
     "execution_count": 106,
     "metadata": {},
     "output_type": "execute_result"
    }
   ],
   "source": [
    "# Help with merging drawn from 1.08 Intro to Pandas\n",
    "# Additional help with merging more than two dataframes:\n",
    "# https://pandas.pydata.org/pandas-docs/stable/reference/api/pandas.DataFrame.merge.html\n",
    "# https://stackoverflow.com/questions/23668427/pandas-three-way-joining-multiple-dataframes-on-columns\n",
    "# No need for left, right, etc joins as all data is being kept\n",
    "\n",
    "#sat_final = pd.merge(pd.merge(sat17_final, sat18_final, on='state'), sat19_final, on='state')\n",
    "\n",
    "sat_final = sat18_final.merge(sat19_final, how='right', on='state')\n",
    "\n",
    "sat_final.head(15)"
   ]
  },
  {
   "cell_type": "markdown",
   "metadata": {},
   "source": [
    "### Saving the cleaned and merged dataset"
   ]
  },
  {
   "cell_type": "code",
   "execution_count": 107,
   "metadata": {},
   "outputs": [],
   "source": [
    "# Exporting the final dataframe\n",
    "# Help from lesson 1.08 Intro to Pandas\n",
    "sat_final.to_csv('../data/sat_final.csv')"
   ]
  },
  {
   "cell_type": "code",
   "execution_count": 108,
   "metadata": {},
   "outputs": [
    {
     "data": {
      "text/html": [
       "<div>\n",
       "<style scoped>\n",
       "    .dataframe tbody tr th:only-of-type {\n",
       "        vertical-align: middle;\n",
       "    }\n",
       "\n",
       "    .dataframe tbody tr th {\n",
       "        vertical-align: top;\n",
       "    }\n",
       "\n",
       "    .dataframe thead th {\n",
       "        text-align: right;\n",
       "    }\n",
       "</style>\n",
       "<table border=\"1\" class=\"dataframe\">\n",
       "  <thead>\n",
       "    <tr style=\"text-align: right;\">\n",
       "      <th></th>\n",
       "      <th>state</th>\n",
       "      <th>participation_rate_18</th>\n",
       "      <th>ebrw_score_18</th>\n",
       "      <th>math_score_18</th>\n",
       "      <th>total_score_18</th>\n",
       "      <th>participation_rate_19</th>\n",
       "      <th>ebrw_score_19</th>\n",
       "      <th>math_score_19</th>\n",
       "      <th>total_score_19</th>\n",
       "    </tr>\n",
       "  </thead>\n",
       "  <tbody>\n",
       "    <tr>\n",
       "      <th>0</th>\n",
       "      <td>Colorado</td>\n",
       "      <td>1.00</td>\n",
       "      <td>519</td>\n",
       "      <td>506</td>\n",
       "      <td>1025</td>\n",
       "      <td>1.00</td>\n",
       "      <td>518</td>\n",
       "      <td>506</td>\n",
       "      <td>1024</td>\n",
       "    </tr>\n",
       "    <tr>\n",
       "      <th>1</th>\n",
       "      <td>Connecticut</td>\n",
       "      <td>1.00</td>\n",
       "      <td>535</td>\n",
       "      <td>519</td>\n",
       "      <td>1053</td>\n",
       "      <td>1.00</td>\n",
       "      <td>529</td>\n",
       "      <td>516</td>\n",
       "      <td>1046</td>\n",
       "    </tr>\n",
       "    <tr>\n",
       "      <th>2</th>\n",
       "      <td>Delaware</td>\n",
       "      <td>1.00</td>\n",
       "      <td>505</td>\n",
       "      <td>492</td>\n",
       "      <td>998</td>\n",
       "      <td>1.00</td>\n",
       "      <td>499</td>\n",
       "      <td>486</td>\n",
       "      <td>985</td>\n",
       "    </tr>\n",
       "    <tr>\n",
       "      <th>3</th>\n",
       "      <td>District of Columbia</td>\n",
       "      <td>0.92</td>\n",
       "      <td>497</td>\n",
       "      <td>480</td>\n",
       "      <td>977</td>\n",
       "      <td>0.94</td>\n",
       "      <td>495</td>\n",
       "      <td>480</td>\n",
       "      <td>975</td>\n",
       "    </tr>\n",
       "    <tr>\n",
       "      <th>4</th>\n",
       "      <td>Idaho</td>\n",
       "      <td>1.00</td>\n",
       "      <td>508</td>\n",
       "      <td>493</td>\n",
       "      <td>1001</td>\n",
       "      <td>1.00</td>\n",
       "      <td>505</td>\n",
       "      <td>488</td>\n",
       "      <td>993</td>\n",
       "    </tr>\n",
       "  </tbody>\n",
       "</table>\n",
       "</div>"
      ],
      "text/plain": [
       "                  state  participation_rate_18  ebrw_score_18  math_score_18  \\\n",
       "0              Colorado                   1.00            519            506   \n",
       "1           Connecticut                   1.00            535            519   \n",
       "2              Delaware                   1.00            505            492   \n",
       "3  District of Columbia                   0.92            497            480   \n",
       "4                 Idaho                   1.00            508            493   \n",
       "\n",
       "   total_score_18  participation_rate_19  ebrw_score_19  math_score_19  \\\n",
       "0            1025                   1.00            518            506   \n",
       "1            1053                   1.00            529            516   \n",
       "2             998                   1.00            499            486   \n",
       "3             977                   0.94            495            480   \n",
       "4            1001                   1.00            505            488   \n",
       "\n",
       "   total_score_19  \n",
       "0            1024  \n",
       "1            1046  \n",
       "2             985  \n",
       "3             975  \n",
       "4             993  "
      ]
     },
     "execution_count": 108,
     "metadata": {},
     "output_type": "execute_result"
    }
   ],
   "source": [
    "# Confirming that data was successfully exported\n",
    "export_success = pd.read_csv('../data/sat_final.csv')\n",
    "export_success.head()\n",
    "#export_success.dtypes"
   ]
  },
  {
   "cell_type": "markdown",
   "metadata": {},
   "source": [
    "### Data Dictionary\n",
    "\n",
    "Now that we've fixed our data, and given it appropriate names, let's create a [data dictionary](http://library.ucmerced.edu/node/10249). \n",
    "\n",
    "A data dictionary provides a quick overview of features/variables/columns, alongside data types and descriptions. The more descriptive you can be, the more useful this document is.\n",
    "\n",
    "Example of a Fictional Data Dictionary Entry: \n",
    "\n",
    "|Feature|Type|Dataset|Description|\n",
    "|---|---|---|---|\n",
    "|**county_pop**|*integer*|2010 census|The population of the county (units in thousands, where 2.5 represents 2500 people).| \n",
    "|**per_poverty**|*float*|2010 census|The percent of the county over the age of 18 living below the 200% of official US poverty rate (units percent to two decimal places 98.10 means 98.1%)|\n",
    "\n",
    "[Here's a quick link to a short guide for formatting markdown in Jupyter notebooks](https://jupyter-notebook.readthedocs.io/en/stable/examples/Notebook/Working%20With%20Markdown%20Cells.html).\n",
    "\n",
    "Provided is the skeleton for formatting a markdown table, with columns headers that will help you create a data dictionary to quickly summarize your data, as well as some examples. **This would be a great thing to copy and paste into your custom README for this project.**\n",
    "\n",
    "*Note*: if you are unsure of what a feature is, check the source of the data! This can be found in the README."
   ]
  },
  {
   "cell_type": "markdown",
   "metadata": {},
   "source": [
    "**To-Do:** *Edit the table below to create your own data dictionary for the datasets you chose.*\n",
    "\n",
    "|Feature|Type|Dataset|Description|\n",
    "|---|---|---|---|\n",
    "|state|object|sat_final|State name| \n",
    "|participation_rate_18|float|sat_2018.csv|2018 SAT participation rate for all eligible students| \n",
    "|ebrw_score_18|int|sat_2018.csv|2018 SAT subscore average on the Evidence-Based Reading and Writing section| \n",
    "|math_score_18|int|sat_2018.csv|2018 SAT subscore average on the Math section| \n",
    "|total_score_18|int|sat_2018.csv|2018 SAT average for subsections combined (Total Score)| \n",
    "|participation_rate_19|float|sat_2019.csv|2019 SAT participation rate for all eligible students| \n",
    "|ebrw_score_19|int|sat_2019.csv|2019 SAT subscore average on the Evidence-Based Reading and Writing section| \n",
    "|math_score_19|int|sat_2019.csv|2019 SAT subscore average on the Math section| \n",
    "|total_score_19|int|sat_2019.csv|2019 SAT average for subsections combined (Total Score)| "
   ]
  },
  {
   "cell_type": "markdown",
   "metadata": {},
   "source": [
    "## Exploratory Data Analysis\n",
    "\n",
    "Complete the following steps to explore your data. You are welcome to do more EDA than the steps outlined here as you feel necessary:\n",
    "1. Summary Statistics.\n",
    "2. Use a **dictionary comprehension** to apply the standard deviation function you create in part 1 to each numeric column in the dataframe.  **No loops**.\n",
    "    - Assign the output to variable `sd` as a dictionary where: \n",
    "        - Each column name is now a key \n",
    "        - That standard deviation of the column is the value \n",
    "        - *Example Output :* `{'ACT_Math': 120, 'ACT_Reading': 120, ...}`\n",
    "3. Investigate trends in the data.\n",
    "    - Using sorting and/or masking (along with the `.head()` method to avoid printing our entire dataframe), consider questions relevant to your problem statement. Some examples are provided below (but feel free to change these questions for your specific problem):\n",
    "        - Which states have the highest and lowest participation rates for the 2017, 2019, or 2019 SAT and ACT?\n",
    "        - Which states have the highest and lowest mean total/composite scores for the 2017, 2019, or 2019 SAT and ACT?\n",
    "        - Do any states with 100% participation on a given test have a rate change year-to-year?\n",
    "        - Do any states show have >50% participation on *both* tests each year?\n",
    "        - Which colleges have the highest median SAT and ACT scores for admittance?\n",
    "        - Which California school districts have the highest and lowest mean test scores?\n",
    "    - **You should comment on your findings at each step in a markdown cell below your code block**. Make sure you include at least one example of sorting your dataframe by a column, and one example of using boolean filtering (i.e., masking) to select a subset of the dataframe."
   ]
  },
  {
   "cell_type": "markdown",
   "metadata": {},
   "source": [
    "### 1.  Summary Statistics"
   ]
  },
  {
   "cell_type": "code",
   "execution_count": 109,
   "metadata": {},
   "outputs": [
    {
     "data": {
      "text/html": [
       "<div>\n",
       "<style scoped>\n",
       "    .dataframe tbody tr th:only-of-type {\n",
       "        vertical-align: middle;\n",
       "    }\n",
       "\n",
       "    .dataframe tbody tr th {\n",
       "        vertical-align: top;\n",
       "    }\n",
       "\n",
       "    .dataframe thead th {\n",
       "        text-align: right;\n",
       "    }\n",
       "</style>\n",
       "<table border=\"1\" class=\"dataframe\">\n",
       "  <thead>\n",
       "    <tr style=\"text-align: right;\">\n",
       "      <th></th>\n",
       "      <th>0</th>\n",
       "      <th>1</th>\n",
       "      <th>2</th>\n",
       "      <th>3</th>\n",
       "      <th>4</th>\n",
       "      <th>5</th>\n",
       "      <th>6</th>\n",
       "      <th>7</th>\n",
       "      <th>8</th>\n",
       "      <th>9</th>\n",
       "      <th>10</th>\n",
       "    </tr>\n",
       "  </thead>\n",
       "  <tbody>\n",
       "    <tr>\n",
       "      <th>state</th>\n",
       "      <td>Colorado</td>\n",
       "      <td>Connecticut</td>\n",
       "      <td>Delaware</td>\n",
       "      <td>District of Columbia</td>\n",
       "      <td>Idaho</td>\n",
       "      <td>Illinois</td>\n",
       "      <td>Maine</td>\n",
       "      <td>Michigan</td>\n",
       "      <td>New Hampshire</td>\n",
       "      <td>Rhode Island</td>\n",
       "      <td>West Virginia</td>\n",
       "    </tr>\n",
       "    <tr>\n",
       "      <th>participation_rate_18</th>\n",
       "      <td>1</td>\n",
       "      <td>1</td>\n",
       "      <td>1</td>\n",
       "      <td>0.92</td>\n",
       "      <td>1</td>\n",
       "      <td>0.99</td>\n",
       "      <td>0.99</td>\n",
       "      <td>1</td>\n",
       "      <td>0.96</td>\n",
       "      <td>0.97</td>\n",
       "      <td>0.28</td>\n",
       "    </tr>\n",
       "    <tr>\n",
       "      <th>ebrw_score_18</th>\n",
       "      <td>519</td>\n",
       "      <td>535</td>\n",
       "      <td>505</td>\n",
       "      <td>497</td>\n",
       "      <td>508</td>\n",
       "      <td>513</td>\n",
       "      <td>512</td>\n",
       "      <td>511</td>\n",
       "      <td>535</td>\n",
       "      <td>513</td>\n",
       "      <td>513</td>\n",
       "    </tr>\n",
       "    <tr>\n",
       "      <th>math_score_18</th>\n",
       "      <td>506</td>\n",
       "      <td>519</td>\n",
       "      <td>492</td>\n",
       "      <td>480</td>\n",
       "      <td>493</td>\n",
       "      <td>506</td>\n",
       "      <td>501</td>\n",
       "      <td>499</td>\n",
       "      <td>528</td>\n",
       "      <td>505</td>\n",
       "      <td>486</td>\n",
       "    </tr>\n",
       "    <tr>\n",
       "      <th>total_score_18</th>\n",
       "      <td>1025</td>\n",
       "      <td>1053</td>\n",
       "      <td>998</td>\n",
       "      <td>977</td>\n",
       "      <td>1001</td>\n",
       "      <td>1019</td>\n",
       "      <td>1013</td>\n",
       "      <td>1011</td>\n",
       "      <td>1063</td>\n",
       "      <td>1018</td>\n",
       "      <td>999</td>\n",
       "    </tr>\n",
       "    <tr>\n",
       "      <th>participation_rate_19</th>\n",
       "      <td>1</td>\n",
       "      <td>1</td>\n",
       "      <td>1</td>\n",
       "      <td>0.94</td>\n",
       "      <td>1</td>\n",
       "      <td>1</td>\n",
       "      <td>0.99</td>\n",
       "      <td>1</td>\n",
       "      <td>0.95</td>\n",
       "      <td>1</td>\n",
       "      <td>0.99</td>\n",
       "    </tr>\n",
       "    <tr>\n",
       "      <th>ebrw_score_19</th>\n",
       "      <td>518</td>\n",
       "      <td>529</td>\n",
       "      <td>499</td>\n",
       "      <td>495</td>\n",
       "      <td>505</td>\n",
       "      <td>509</td>\n",
       "      <td>512</td>\n",
       "      <td>507</td>\n",
       "      <td>533</td>\n",
       "      <td>503</td>\n",
       "      <td>483</td>\n",
       "    </tr>\n",
       "    <tr>\n",
       "      <th>math_score_19</th>\n",
       "      <td>506</td>\n",
       "      <td>516</td>\n",
       "      <td>486</td>\n",
       "      <td>480</td>\n",
       "      <td>488</td>\n",
       "      <td>504</td>\n",
       "      <td>502</td>\n",
       "      <td>496</td>\n",
       "      <td>526</td>\n",
       "      <td>492</td>\n",
       "      <td>460</td>\n",
       "    </tr>\n",
       "    <tr>\n",
       "      <th>total_score_19</th>\n",
       "      <td>1024</td>\n",
       "      <td>1046</td>\n",
       "      <td>985</td>\n",
       "      <td>975</td>\n",
       "      <td>993</td>\n",
       "      <td>1013</td>\n",
       "      <td>1013</td>\n",
       "      <td>1003</td>\n",
       "      <td>1059</td>\n",
       "      <td>995</td>\n",
       "      <td>943</td>\n",
       "    </tr>\n",
       "  </tbody>\n",
       "</table>\n",
       "</div>"
      ],
      "text/plain": [
       "                             0            1         2                     3   \\\n",
       "state                  Colorado  Connecticut  Delaware  District of Columbia   \n",
       "participation_rate_18         1            1         1                  0.92   \n",
       "ebrw_score_18               519          535       505                   497   \n",
       "math_score_18               506          519       492                   480   \n",
       "total_score_18             1025         1053       998                   977   \n",
       "participation_rate_19         1            1         1                  0.94   \n",
       "ebrw_score_19               518          529       499                   495   \n",
       "math_score_19               506          516       486                   480   \n",
       "total_score_19             1024         1046       985                   975   \n",
       "\n",
       "                          4         5      6         7              8   \\\n",
       "state                  Idaho  Illinois  Maine  Michigan  New Hampshire   \n",
       "participation_rate_18      1      0.99   0.99         1           0.96   \n",
       "ebrw_score_18            508       513    512       511            535   \n",
       "math_score_18            493       506    501       499            528   \n",
       "total_score_18          1001      1019   1013      1011           1063   \n",
       "participation_rate_19      1         1   0.99         1           0.95   \n",
       "ebrw_score_19            505       509    512       507            533   \n",
       "math_score_19            488       504    502       496            526   \n",
       "total_score_19           993      1013   1013      1003           1059   \n",
       "\n",
       "                                 9              10  \n",
       "state                  Rhode Island  West Virginia  \n",
       "participation_rate_18          0.97           0.28  \n",
       "ebrw_score_18                   513            513  \n",
       "math_score_18                   505            486  \n",
       "total_score_18                 1018            999  \n",
       "participation_rate_19             1           0.99  \n",
       "ebrw_score_19                   503            483  \n",
       "math_score_19                   492            460  \n",
       "total_score_19                  995            943  "
      ]
     },
     "execution_count": 109,
     "metadata": {},
     "output_type": "execute_result"
    }
   ],
   "source": [
    "# Reading in the newly created exported data to confirm it works:\n",
    "sat_final = pd.read_csv('../data/sat_final.csv')\n",
    "\n",
    "sat_final.head(11).T"
   ]
  },
  {
   "cell_type": "markdown",
   "metadata": {},
   "source": [
    "The final dataframe used in the analyses can be found above.  In it, nine states and the District of Columbia are listed.  These are the areas that have compulsory SAT requirements or which offer the test free of charge to all students by 2019. Participation rates, Evidence-Based Reading and Writing subscores, Math subscores, and the total score for 2018 and 2019 are listed.\n",
    "\n",
    "New Hampshire had the highest score for both 2018 and 2019 with scores of 1063 and 1059 respectively. The District of Columbia had the lowest composite score for 2018 with 998 with West Virgina as close second with a composite score of 998.  For 2019, West Virgina had the lowest score at 943."
   ]
  },
  {
   "cell_type": "code",
   "execution_count": 110,
   "metadata": {},
   "outputs": [
    {
     "data": {
      "text/html": [
       "<div>\n",
       "<style scoped>\n",
       "    .dataframe tbody tr th:only-of-type {\n",
       "        vertical-align: middle;\n",
       "    }\n",
       "\n",
       "    .dataframe tbody tr th {\n",
       "        vertical-align: top;\n",
       "    }\n",
       "\n",
       "    .dataframe thead th {\n",
       "        text-align: right;\n",
       "    }\n",
       "</style>\n",
       "<table border=\"1\" class=\"dataframe\">\n",
       "  <thead>\n",
       "    <tr style=\"text-align: right;\">\n",
       "      <th></th>\n",
       "      <th>count</th>\n",
       "      <th>mean</th>\n",
       "      <th>std</th>\n",
       "      <th>min</th>\n",
       "      <th>25%</th>\n",
       "      <th>50%</th>\n",
       "      <th>75%</th>\n",
       "      <th>max</th>\n",
       "    </tr>\n",
       "  </thead>\n",
       "  <tbody>\n",
       "    <tr>\n",
       "      <th>participation_rate_18</th>\n",
       "      <td>11.0</td>\n",
       "      <td>0.919091</td>\n",
       "      <td>0.213422</td>\n",
       "      <td>0.28</td>\n",
       "      <td>0.965</td>\n",
       "      <td>0.99</td>\n",
       "      <td>1.0</td>\n",
       "      <td>1.0</td>\n",
       "    </tr>\n",
       "    <tr>\n",
       "      <th>ebrw_score_18</th>\n",
       "      <td>11.0</td>\n",
       "      <td>514.636364</td>\n",
       "      <td>11.508890</td>\n",
       "      <td>497.00</td>\n",
       "      <td>509.500</td>\n",
       "      <td>513.00</td>\n",
       "      <td>516.0</td>\n",
       "      <td>535.0</td>\n",
       "    </tr>\n",
       "    <tr>\n",
       "      <th>math_score_18</th>\n",
       "      <td>11.0</td>\n",
       "      <td>501.363636</td>\n",
       "      <td>13.901602</td>\n",
       "      <td>480.00</td>\n",
       "      <td>492.500</td>\n",
       "      <td>501.00</td>\n",
       "      <td>506.0</td>\n",
       "      <td>528.0</td>\n",
       "    </tr>\n",
       "    <tr>\n",
       "      <th>total_score_18</th>\n",
       "      <td>11.0</td>\n",
       "      <td>1016.090909</td>\n",
       "      <td>24.627036</td>\n",
       "      <td>977.00</td>\n",
       "      <td>1000.000</td>\n",
       "      <td>1013.00</td>\n",
       "      <td>1022.0</td>\n",
       "      <td>1063.0</td>\n",
       "    </tr>\n",
       "    <tr>\n",
       "      <th>participation_rate_19</th>\n",
       "      <td>11.0</td>\n",
       "      <td>0.988182</td>\n",
       "      <td>0.021826</td>\n",
       "      <td>0.94</td>\n",
       "      <td>0.990</td>\n",
       "      <td>1.00</td>\n",
       "      <td>1.0</td>\n",
       "      <td>1.0</td>\n",
       "    </tr>\n",
       "    <tr>\n",
       "      <th>ebrw_score_19</th>\n",
       "      <td>11.0</td>\n",
       "      <td>508.454545</td>\n",
       "      <td>14.459347</td>\n",
       "      <td>483.00</td>\n",
       "      <td>501.000</td>\n",
       "      <td>507.00</td>\n",
       "      <td>515.0</td>\n",
       "      <td>533.0</td>\n",
       "    </tr>\n",
       "    <tr>\n",
       "      <th>math_score_19</th>\n",
       "      <td>11.0</td>\n",
       "      <td>496.000000</td>\n",
       "      <td>17.977764</td>\n",
       "      <td>460.00</td>\n",
       "      <td>487.000</td>\n",
       "      <td>496.00</td>\n",
       "      <td>505.0</td>\n",
       "      <td>526.0</td>\n",
       "    </tr>\n",
       "    <tr>\n",
       "      <th>total_score_19</th>\n",
       "      <td>11.0</td>\n",
       "      <td>1004.454545</td>\n",
       "      <td>32.364683</td>\n",
       "      <td>943.00</td>\n",
       "      <td>989.000</td>\n",
       "      <td>1003.00</td>\n",
       "      <td>1018.5</td>\n",
       "      <td>1059.0</td>\n",
       "    </tr>\n",
       "  </tbody>\n",
       "</table>\n",
       "</div>"
      ],
      "text/plain": [
       "                       count         mean        std     min       25%  \\\n",
       "participation_rate_18   11.0     0.919091   0.213422    0.28     0.965   \n",
       "ebrw_score_18           11.0   514.636364  11.508890  497.00   509.500   \n",
       "math_score_18           11.0   501.363636  13.901602  480.00   492.500   \n",
       "total_score_18          11.0  1016.090909  24.627036  977.00  1000.000   \n",
       "participation_rate_19   11.0     0.988182   0.021826    0.94     0.990   \n",
       "ebrw_score_19           11.0   508.454545  14.459347  483.00   501.000   \n",
       "math_score_19           11.0   496.000000  17.977764  460.00   487.000   \n",
       "total_score_19          11.0  1004.454545  32.364683  943.00   989.000   \n",
       "\n",
       "                           50%     75%     max  \n",
       "participation_rate_18     0.99     1.0     1.0  \n",
       "ebrw_score_18           513.00   516.0   535.0  \n",
       "math_score_18           501.00   506.0   528.0  \n",
       "total_score_18         1013.00  1022.0  1063.0  \n",
       "participation_rate_19     1.00     1.0     1.0  \n",
       "ebrw_score_19           507.00   515.0   533.0  \n",
       "math_score_19           496.00   505.0   526.0  \n",
       "total_score_19         1003.00  1018.5  1059.0  "
      ]
     },
     "execution_count": 110,
     "metadata": {},
     "output_type": "execute_result"
    }
   ],
   "source": [
    "sat_final.describe().T"
   ]
  },
  {
   "cell_type": "markdown",
   "metadata": {},
   "source": [
    "The summary statistics for the dataset are noted above. The mean value for the total SAT score declined from about 1016 in 2018 to 1004 in 2019. Similar declines were seen in both subscore areas. This table also lists the standard deviations, percentile values, and the minimum and maximum values for the total and subscore areas. 2018 saw sligtly higher scores than 2019 for total total and subscore values.\n",
    "\n",
    "The maximum values for 2018 and 2019 were 1063 and 1059 while the minimum values were 977 and 943, respectively.\n",
    "\n",
    "The mean value was about 1016 for the 2018 total score and 1004 for 2019."
   ]
  },
  {
   "cell_type": "markdown",
   "metadata": {},
   "source": [
    "### 2. Find standard deviations using dictionary comprehension and the function from Part 1 "
   ]
  },
  {
   "cell_type": "code",
   "execution_count": 111,
   "metadata": {},
   "outputs": [
    {
     "data": {
      "text/plain": [
       "{'participation_rate_18': 0.2134223299214281,\n",
       " 'ebrw_score_18': 11.5088898445743,\n",
       " 'math_score_18': 13.90160226213315,\n",
       " 'total_score_18': 24.627036141016013,\n",
       " 'participation_rate_19': 0.021825756260978386,\n",
       " 'ebrw_score_19': 14.459347401343093,\n",
       " 'math_score_19': 17.977764043395386,\n",
       " 'total_score_19': 32.364683333422676}"
      ]
     },
     "execution_count": 111,
     "metadata": {},
     "output_type": "execute_result"
    }
   ],
   "source": [
    "# Dictionary comprehension help draw from Lesson 1.05: List Comprehension\n",
    "sat_std_devs = {k:std_dev(v) for (k,v) in sat_final.items() if ((v.dtype == int) | (v.dtype == float))}\n",
    "\n",
    "sat_std_devs"
   ]
  },
  {
   "cell_type": "markdown",
   "metadata": {},
   "source": [
    "The standard deviation or the variation in the data from the mean for each column is noted above. Small values show show that the values tend to be closer to the mean while larger values indicate a greater spread. The sub-scores for Evidence-Based Reading and Writing and Math have smaller standard deviations than the total scores.  This is consistent for both 2018 and 2019. "
   ]
  },
  {
   "cell_type": "markdown",
   "metadata": {},
   "source": [
    "### Investigating Trends"
   ]
  },
  {
   "cell_type": "code",
   "execution_count": 112,
   "metadata": {},
   "outputs": [],
   "source": [
    "# Taking a closer look at participation rates without the clutter of the other columns.\n",
    "# Making a dataframe including only state names and participation rates\n",
    "sat_part_rates = sat_final[['state', 'participation_rate_18', 'participation_rate_19']]"
   ]
  },
  {
   "cell_type": "code",
   "execution_count": 113,
   "metadata": {},
   "outputs": [
    {
     "data": {
      "text/html": [
       "<div>\n",
       "<style scoped>\n",
       "    .dataframe tbody tr th:only-of-type {\n",
       "        vertical-align: middle;\n",
       "    }\n",
       "\n",
       "    .dataframe tbody tr th {\n",
       "        vertical-align: top;\n",
       "    }\n",
       "\n",
       "    .dataframe thead th {\n",
       "        text-align: right;\n",
       "    }\n",
       "</style>\n",
       "<table border=\"1\" class=\"dataframe\">\n",
       "  <thead>\n",
       "    <tr style=\"text-align: right;\">\n",
       "      <th></th>\n",
       "      <th>state</th>\n",
       "      <th>participation_rate_18</th>\n",
       "      <th>participation_rate_19</th>\n",
       "    </tr>\n",
       "  </thead>\n",
       "  <tbody>\n",
       "    <tr>\n",
       "      <th>10</th>\n",
       "      <td>West Virginia</td>\n",
       "      <td>0.28</td>\n",
       "      <td>0.99</td>\n",
       "    </tr>\n",
       "    <tr>\n",
       "      <th>3</th>\n",
       "      <td>District of Columbia</td>\n",
       "      <td>0.92</td>\n",
       "      <td>0.94</td>\n",
       "    </tr>\n",
       "    <tr>\n",
       "      <th>8</th>\n",
       "      <td>New Hampshire</td>\n",
       "      <td>0.96</td>\n",
       "      <td>0.95</td>\n",
       "    </tr>\n",
       "    <tr>\n",
       "      <th>9</th>\n",
       "      <td>Rhode Island</td>\n",
       "      <td>0.97</td>\n",
       "      <td>1.00</td>\n",
       "    </tr>\n",
       "    <tr>\n",
       "      <th>6</th>\n",
       "      <td>Maine</td>\n",
       "      <td>0.99</td>\n",
       "      <td>0.99</td>\n",
       "    </tr>\n",
       "    <tr>\n",
       "      <th>5</th>\n",
       "      <td>Illinois</td>\n",
       "      <td>0.99</td>\n",
       "      <td>1.00</td>\n",
       "    </tr>\n",
       "    <tr>\n",
       "      <th>0</th>\n",
       "      <td>Colorado</td>\n",
       "      <td>1.00</td>\n",
       "      <td>1.00</td>\n",
       "    </tr>\n",
       "    <tr>\n",
       "      <th>1</th>\n",
       "      <td>Connecticut</td>\n",
       "      <td>1.00</td>\n",
       "      <td>1.00</td>\n",
       "    </tr>\n",
       "    <tr>\n",
       "      <th>2</th>\n",
       "      <td>Delaware</td>\n",
       "      <td>1.00</td>\n",
       "      <td>1.00</td>\n",
       "    </tr>\n",
       "    <tr>\n",
       "      <th>4</th>\n",
       "      <td>Idaho</td>\n",
       "      <td>1.00</td>\n",
       "      <td>1.00</td>\n",
       "    </tr>\n",
       "    <tr>\n",
       "      <th>7</th>\n",
       "      <td>Michigan</td>\n",
       "      <td>1.00</td>\n",
       "      <td>1.00</td>\n",
       "    </tr>\n",
       "  </tbody>\n",
       "</table>\n",
       "</div>"
      ],
      "text/plain": [
       "                   state  participation_rate_18  participation_rate_19\n",
       "10         West Virginia                   0.28                   0.99\n",
       "3   District of Columbia                   0.92                   0.94\n",
       "8          New Hampshire                   0.96                   0.95\n",
       "9           Rhode Island                   0.97                   1.00\n",
       "6                  Maine                   0.99                   0.99\n",
       "5               Illinois                   0.99                   1.00\n",
       "0               Colorado                   1.00                   1.00\n",
       "1            Connecticut                   1.00                   1.00\n",
       "2               Delaware                   1.00                   1.00\n",
       "4                  Idaho                   1.00                   1.00\n",
       "7               Michigan                   1.00                   1.00"
      ]
     },
     "execution_count": 113,
     "metadata": {},
     "output_type": "execute_result"
    }
   ],
   "source": [
    "# Sorting the data based on the participation rate in 2017\n",
    "sat_part_rates.sort_values(by=['participation_rate_18', 'participation_rate_19'], ascending=True)"
   ]
  },
  {
   "cell_type": "markdown",
   "metadata": {},
   "source": [
    "Participation rates for the years 2018 and 2019 for all states are at or near 1 (or 100%).  The exception to this is West Virginia whose participation rate for 2018 is 0.28. This is a result of West Virginia not making the test mandatory until 2019 where participation rose to 0.99. Regardless, West Virginia has remained in the dataset since the scores did not differ dramatically by year.\n",
    "\n",
    "While required, not all states reached 100 percent participation in 2019 including West Virginia, the District of Columbia, New Hampshire, and Maine."
   ]
  },
  {
   "cell_type": "code",
   "execution_count": 114,
   "metadata": {},
   "outputs": [
    {
     "data": {
      "text/html": [
       "<div>\n",
       "<style scoped>\n",
       "    .dataframe tbody tr th:only-of-type {\n",
       "        vertical-align: middle;\n",
       "    }\n",
       "\n",
       "    .dataframe tbody tr th {\n",
       "        vertical-align: top;\n",
       "    }\n",
       "\n",
       "    .dataframe thead th {\n",
       "        text-align: right;\n",
       "    }\n",
       "</style>\n",
       "<table border=\"1\" class=\"dataframe\">\n",
       "  <thead>\n",
       "    <tr style=\"text-align: right;\">\n",
       "      <th></th>\n",
       "      <th>state</th>\n",
       "      <th>participation_rate_18</th>\n",
       "      <th>total_score_18</th>\n",
       "      <th>participation_rate_19</th>\n",
       "      <th>total_score_19</th>\n",
       "    </tr>\n",
       "  </thead>\n",
       "  <tbody>\n",
       "    <tr>\n",
       "      <th>10</th>\n",
       "      <td>West Virginia</td>\n",
       "      <td>0.28</td>\n",
       "      <td>999</td>\n",
       "      <td>0.99</td>\n",
       "      <td>943</td>\n",
       "    </tr>\n",
       "  </tbody>\n",
       "</table>\n",
       "</div>"
      ],
      "text/plain": [
       "            state  participation_rate_18  total_score_18  \\\n",
       "10  West Virginia                   0.28             999   \n",
       "\n",
       "    participation_rate_19  total_score_19  \n",
       "10                   0.99             943  "
      ]
     },
     "execution_count": 114,
     "metadata": {},
     "output_type": "execute_result"
    }
   ],
   "source": [
    "# Examining States that currently require the SAT but did NOT in 2017\n",
    "# .loc() code help drawn from Lesson 1.08: Intro to Pandas\n",
    "# Masking the data to only include States with participation rates below 0.9\n",
    "sat_final.loc[sat_final['participation_rate_18'] < 0.9][['state', 'participation_rate_18', 'total_score_18', \n",
    "                                                         'participation_rate_19', 'total_score_19']]"
   ]
  },
  {
   "cell_type": "markdown",
   "metadata": {},
   "source": [
    "Above is the participation rate for West Virgina for 2018 and 2019. A decline of 56 points was seen in the total score from 2018 to 2019."
   ]
  },
  {
   "cell_type": "code",
   "execution_count": 115,
   "metadata": {},
   "outputs": [
    {
     "data": {
      "text/html": [
       "<div>\n",
       "<style scoped>\n",
       "    .dataframe tbody tr th:only-of-type {\n",
       "        vertical-align: middle;\n",
       "    }\n",
       "\n",
       "    .dataframe tbody tr th {\n",
       "        vertical-align: top;\n",
       "    }\n",
       "\n",
       "    .dataframe thead th {\n",
       "        text-align: right;\n",
       "    }\n",
       "</style>\n",
       "<table border=\"1\" class=\"dataframe\">\n",
       "  <thead>\n",
       "    <tr style=\"text-align: right;\">\n",
       "      <th></th>\n",
       "      <th>state</th>\n",
       "      <th>participation_rate_18</th>\n",
       "      <th>total_score_18</th>\n",
       "      <th>participation_rate_19</th>\n",
       "      <th>total_score_19</th>\n",
       "    </tr>\n",
       "  </thead>\n",
       "  <tbody>\n",
       "    <tr>\n",
       "      <th>0</th>\n",
       "      <td>Colorado</td>\n",
       "      <td>1.00</td>\n",
       "      <td>1025</td>\n",
       "      <td>1.00</td>\n",
       "      <td>1024</td>\n",
       "    </tr>\n",
       "    <tr>\n",
       "      <th>1</th>\n",
       "      <td>Connecticut</td>\n",
       "      <td>1.00</td>\n",
       "      <td>1053</td>\n",
       "      <td>1.00</td>\n",
       "      <td>1046</td>\n",
       "    </tr>\n",
       "    <tr>\n",
       "      <th>2</th>\n",
       "      <td>Delaware</td>\n",
       "      <td>1.00</td>\n",
       "      <td>998</td>\n",
       "      <td>1.00</td>\n",
       "      <td>985</td>\n",
       "    </tr>\n",
       "    <tr>\n",
       "      <th>3</th>\n",
       "      <td>District of Columbia</td>\n",
       "      <td>0.92</td>\n",
       "      <td>977</td>\n",
       "      <td>0.94</td>\n",
       "      <td>975</td>\n",
       "    </tr>\n",
       "    <tr>\n",
       "      <th>4</th>\n",
       "      <td>Idaho</td>\n",
       "      <td>1.00</td>\n",
       "      <td>1001</td>\n",
       "      <td>1.00</td>\n",
       "      <td>993</td>\n",
       "    </tr>\n",
       "    <tr>\n",
       "      <th>5</th>\n",
       "      <td>Illinois</td>\n",
       "      <td>0.99</td>\n",
       "      <td>1019</td>\n",
       "      <td>1.00</td>\n",
       "      <td>1013</td>\n",
       "    </tr>\n",
       "    <tr>\n",
       "      <th>6</th>\n",
       "      <td>Maine</td>\n",
       "      <td>0.99</td>\n",
       "      <td>1013</td>\n",
       "      <td>0.99</td>\n",
       "      <td>1013</td>\n",
       "    </tr>\n",
       "    <tr>\n",
       "      <th>7</th>\n",
       "      <td>Michigan</td>\n",
       "      <td>1.00</td>\n",
       "      <td>1011</td>\n",
       "      <td>1.00</td>\n",
       "      <td>1003</td>\n",
       "    </tr>\n",
       "    <tr>\n",
       "      <th>8</th>\n",
       "      <td>New Hampshire</td>\n",
       "      <td>0.96</td>\n",
       "      <td>1063</td>\n",
       "      <td>0.95</td>\n",
       "      <td>1059</td>\n",
       "    </tr>\n",
       "    <tr>\n",
       "      <th>9</th>\n",
       "      <td>Rhode Island</td>\n",
       "      <td>0.97</td>\n",
       "      <td>1018</td>\n",
       "      <td>1.00</td>\n",
       "      <td>995</td>\n",
       "    </tr>\n",
       "  </tbody>\n",
       "</table>\n",
       "</div>"
      ],
      "text/plain": [
       "                  state  participation_rate_18  total_score_18  \\\n",
       "0              Colorado                   1.00            1025   \n",
       "1           Connecticut                   1.00            1053   \n",
       "2              Delaware                   1.00             998   \n",
       "3  District of Columbia                   0.92             977   \n",
       "4                 Idaho                   1.00            1001   \n",
       "5              Illinois                   0.99            1019   \n",
       "6                 Maine                   0.99            1013   \n",
       "7              Michigan                   1.00            1011   \n",
       "8         New Hampshire                   0.96            1063   \n",
       "9          Rhode Island                   0.97            1018   \n",
       "\n",
       "   participation_rate_19  total_score_19  \n",
       "0                   1.00            1024  \n",
       "1                   1.00            1046  \n",
       "2                   1.00             985  \n",
       "3                   0.94             975  \n",
       "4                   1.00             993  \n",
       "5                   1.00            1013  \n",
       "6                   0.99            1013  \n",
       "7                   1.00            1003  \n",
       "8                   0.95            1059  \n",
       "9                   1.00             995  "
      ]
     },
     "execution_count": 115,
     "metadata": {},
     "output_type": "execute_result"
    }
   ],
   "source": [
    "# Examining States that have required the SAT since 2018\n",
    "# .loc() code help drawn from Lesson 1.08: Intro to Pandas\n",
    "# Masking the data to only include States with participation rates above 0.9\n",
    "sat_final.loc[sat_final['participation_rate_18'] > 0.9][['state', 'participation_rate_18', 'total_score_18', \n",
    "                                                         'participation_rate_19', 'total_score_19']]"
   ]
  },
  {
   "cell_type": "markdown",
   "metadata": {},
   "source": [
    "The above table includes nine states and the District of Columbia as these areas either require or offer the SAT to students free of charge. Across the board, all areas noted a decline in the total score from 2018 to 2019 ranging between 0 and 13 points. The declines were small with the exception of Rhode Island which saw a decline of 23 points"
   ]
  },
  {
   "cell_type": "code",
   "execution_count": 116,
   "metadata": {},
   "outputs": [
    {
     "name": "stdout",
     "output_type": "stream",
     "text": [
      "Mean 2018 SAT score for states with particpation rates < 0.9: 999.0. ** West Virginia\n",
      "Mean 2018 SAT score for states with particpation rates > 0.9: 1017.8\n",
      "Mean 2018 SAT score for ALL states: 1016.0909090909091\n",
      "Median 2018 SAT score for ALL states: 1013.0\n",
      "Difference in mean 2018 SAT scores for states with participation rates above and below 0.9: -18.799999999999955\n"
     ]
    }
   ],
   "source": [
    "# Calculating mean/average based on a filter or restriction.\n",
    "# Finding the mean/average of 2018 total SAT scores for states with a participation rate below 0.9\n",
    "below18 = np.average(sat_final['total_score_18'], weights=(sat_final['participation_rate_18'] < 0.9))\n",
    "# Finding the mean/average of 2018 total SAT scores for states with a participation rate above 0.9\n",
    "above18 = np.average(sat_final['total_score_18'], weights=(sat_final['participation_rate_18'] > 0.9))\n",
    "# Finding the mean/average of 2018 total SAT scores for ALL states \n",
    "avg18 = np.mean(sat_final['total_score_18'])\n",
    "# Finding the median of 2019 total SAT scores for ALL states\n",
    "median18 = np.median(sat_final['total_score_18'])\n",
    "\n",
    "diff18 = below18 - above18\n",
    "\n",
    "print(f'Mean 2018 SAT score for states with particpation rates < 0.9: {below18}. ** West Virginia' )\n",
    "print(f'Mean 2018 SAT score for states with particpation rates > 0.9: {above18}' )\n",
    "print(f'Mean 2018 SAT score for ALL states: {avg18}' )\n",
    "print(f'Median 2018 SAT score for ALL states: {median18}' )\n",
    "\n",
    "print(f'Difference in mean 2018 SAT scores for states with participation rates above and below 0.9: {diff18}' )"
   ]
  },
  {
   "cell_type": "code",
   "execution_count": 117,
   "metadata": {},
   "outputs": [
    {
     "name": "stdout",
     "output_type": "stream",
     "text": [
      "Mean 2019 SAT score for ALL states: 1004.4545454545455\n",
      "Median 2019 SAT score for ALL states: 1003.0\n"
     ]
    }
   ],
   "source": [
    "# Calculating mean/average based on a filter or restriction.\n",
    "# Finding the mean/average of 2019 total SAT scores for states with a participation rate below 0.9\n",
    "#below19 = np.average(sat_final['total_score_19'], weights=(sat_final['participation_rate_19'] < 0.9))\n",
    "# Finding the mean/average of 2019 total SAT scores for states with a participation rate above 0.9\n",
    "#above19 = np.average(sat_final['total_score_19'], weights=(sat_final['participation_rate_19'] > 0.9))\n",
    "# Finding the mean/average of 2019 total SAT scores for ALL states \n",
    "avg19 = np.mean(sat_final['total_score_19'])\n",
    "# Finding the median of 2019 total SAT scores for ALL states\n",
    "median19 = np.median(sat_final['total_score_19'])\n",
    "\n",
    "\n",
    "#print(f'Mean 2019 SAT score for states with particpation rates < 0.9: {below19}' )\n",
    "#print(f'Mean 2019 SAT score for states with particpation rates > 0.9: {above19}' )\n",
    "print(f'Mean 2019 SAT score for ALL states: {avg19}' )\n",
    "print(f'Median 2019 SAT score for ALL states: {median19}' )\n",
    "\n",
    "#print(f'Difference in mean 2019 SAT scores for states with participation rates above and below 0.9: {diff19}' )"
   ]
  },
  {
   "cell_type": "markdown",
   "metadata": {},
   "source": [
    "### Trend Summary:\n",
    "\n",
    "Participation rates for the years 2018 and 2019 for all states were at or near 1 (or 100%).  The exception to this was West Virginia whose participation rate for 2018 was 0.28. This is a result of West Virginia not making the test mandatory until 2019 where participation rose to 0.99. Regardless, West Virginia has remained in the dataset and saw a decline of 56 points in the total score from 2018 to 2019. Like West Virginia, all areas noted a decline in the total score from 2018 to 2019. These drops ranged between 0 and 13 points. The declines were small with the exception of Rhode Island which saw a decline of 23 points and West Virginia (described above).\n",
    "\n",
    "While required, not all states reached 100 percent participation in 2019 including West Virginia, the District of Columbia (0.94), New Hampshire (0.95), and Maine (0.99).\n",
    "\n",
    "The mean and median SAT total scores for 2018 were 1016 and 1013, respectively while 2019's corresponding scores were 1004 and 1003. 2019 showed a decline in both mean and median scores from 2018. Within each year, mean and median scores were numerically close with small differences (3 points for 2018 and 1 point for 2019).\n"
   ]
  },
  {
   "cell_type": "markdown",
   "metadata": {},
   "source": [
    "## Visualize the Data\n",
    "\n",
    "There's not a magic bullet recommendation for the right number of plots to understand a given dataset, but visualizing your data is *always* a good idea. Not only does it allow you to quickly convey your findings (even if you have a non-technical audience), it will often reveal trends in your data that escaped you when you were looking only at numbers. It is important to not only create visualizations, but to **interpret your visualizations** as well.\n",
    "\n",
    "**Every plot should**:\n",
    "- Have a title\n",
    "- Have axis labels\n",
    "- Have appropriate tick labels\n",
    "- Text is legible in a plot\n",
    "- Plots demonstrate meaningful and valid relationships\n",
    "- Have an interpretation to aid understanding\n",
    "\n",
    "Here is an example of what your plots should look like following the above guidelines. Note that while the content of this example is unrelated, the principles of visualization hold:\n",
    "\n",
    "![](https://snag.gy/hCBR1U.jpg)\n",
    "*Interpretation: The above image shows that as we increase our spending on advertising, our sales numbers also tend to increase. There is a positive correlation between advertising spending and sales.*\n",
    "\n",
    "---\n",
    "\n",
    "Here are some prompts to get you started with visualizations. Feel free to add additional visualizations as you see fit:\n",
    "1. Use Seaborn's heatmap with pandas `.corr()` to visualize correlations between all numeric features.\n",
    "    - Heatmaps are generally not appropriate for presentations, and should often be excluded from reports as they can be visually overwhelming. **However**, they can be extremely useful in identify relationships of potential interest (as well as identifying potential collinearity before modeling).\n",
    "    - Please take time to format your output, adding a title. Look through some of the additional arguments and options. (Axis labels aren't really necessary, as long as the title is informative).\n",
    "2. Visualize distributions using histograms. If you have a lot, consider writing a custom function and use subplots.\n",
    "    - *OPTIONAL*: Summarize the underlying distributions of your features (in words & statistics)\n",
    "         - Be thorough in your verbal description of these distributions.\n",
    "         - Be sure to back up these summaries with statistics.\n",
    "         - We generally assume that data we sample from a population will be normally distributed. Do we observe this trend? Explain your answers for each distribution and how you think this will affect estimates made from these data.\n",
    "3. Plot and interpret boxplots. \n",
    "    - Boxplots demonstrate central tendency and spread in variables. In a certain sense, these are somewhat redundant with histograms, but you may be better able to identify clear outliers or differences in IQR, etc.\n",
    "    - Multiple values can be plotted to a single boxplot as long as they are of the same relative scale (meaning they have similar min/max values).\n",
    "    - Each boxplot should:\n",
    "        - Only include variables of a similar scale\n",
    "        - Have clear labels for each variable\n",
    "        - Have appropriate titles and labels\n",
    "4. Plot and interpret scatter plots to view relationships between features. Feel free to write a custom function, and subplot if you'd like. Functions save both time and space.\n",
    "    - Your plots should have:\n",
    "        - Two clearly labeled axes\n",
    "        - A proper title\n",
    "        - Colors and symbols that are clear and unmistakable\n",
    "5. Additional plots of your choosing.\n",
    "    - Are there any additional trends or relationships you haven't explored? Was there something interesting you saw that you'd like to dive further into? It's likely that there are a few more plots you might want to generate to support your narrative and recommendations that you are building toward. **As always, make sure you're interpreting your plots as you go**."
   ]
  },
  {
   "cell_type": "code",
   "execution_count": 118,
   "metadata": {},
   "outputs": [
    {
     "data": {
      "image/png": "[encoded data removed]",
      "text/plain": [
       "<Figure size 936x936 with 2 Axes>"
      ]
     },
     "metadata": {
      "needs_background": "light"
     },
     "output_type": "display_data"
    }
   ],
   "source": [
    "# Setting the area size for the plot\n",
    "fig = plt.figure(figsize = (13,13))\n",
    "\n",
    "# Using mask to not show duplicate correlation\n",
    "mask = np.zeros_like(sat_final.corr())\n",
    "mask[np.triu_indices_from(mask)] = True\n",
    "\n",
    "# Selecting a color palette that might be good for color-blind\n",
    "# https://blog.bioturing.com/2018/09/24/heatmap-color-scale/\n",
    "#https://seaborn.pydata.org/tutorial/color_palettes.html\n",
    "sns.heatmap(sat_final.corr(), cmap = 'crest', annot = True, square = True, \n",
    "vmin = -1, vmax = 1, mask = mask, linecolor = 'white', linewidths = 0.01)\n",
    "\n",
    "# rotating the xticks for greater readability\n",
    "plt.xticks(rotation=40)\n",
    "\n",
    "# Labeling x and y axes\n",
    "plt.xlabel('Participation Rates and Test Scores', fontsize=15)\n",
    "plt.ylabel('Participation Rates and Test Scores', fontsize=15)\n",
    "\n",
    "# Adding a title\n",
    "plt.title('SAT Test Score Correlations for States\\n with Compulsory Testing Requirements', fontsize=20) ;\n",
    "\n",
    "fig.savefig('../assets/corr_matrix.jpg', dpi=75)\n",
    "\n",
    "plt.show()"
   ]
  },
  {
   "cell_type": "markdown",
   "metadata": {},
   "source": [
    "The figure above shows correlations between all integer and float datatype variables. The stronger the correlation in the positive direction, the darker the color while the stronger the correlation in the negative dirction is the lighter color. The correlation matrix, for the most part, shows correlations in the postive direction.\n",
    "\n",
    "Subject matter subscores tend to have a strong positive correlation with the total and subscores from the same year. Sub and total scores also correlate with scores from the other test year. For example, the Evidence-Based Reading and Writing score for 2018 has a correlation of 0.82 with the comparable score for 2019.\n",
    "\n",
    "Participation rates do not have as strong a corrlation relationship with composite and subscore values - all hovering around 0. However, the strongest correlation between a participation rate and another variable is between 2019's participation rate and the Math subscore for 2019 (0.68)."
   ]
  },
  {
   "cell_type": "code",
   "execution_count": 119,
   "metadata": {},
   "outputs": [
    {
     "data": {
      "image/png": "[encoded data removed]",
      "text/plain": [
       "<Figure size 864x432 with 1 Axes>"
      ]
     },
     "metadata": {
      "needs_background": "light"
     },
     "output_type": "display_data"
    }
   ],
   "source": [
    "# Plotting box plots for total test scores for years 2018, 2019\n",
    "# Used to examine the spread of the data\n",
    "fig = plt.figure(figsize = (12,6))\n",
    "\n",
    "# Creating a boxplot using Seaborn\n",
    "# https://seaborn.pydata.org/generated/seaborn.boxplot.html\n",
    "sns.boxplot(data=sat_final, palette='crest', orient='h', width = 0.6,\n",
    "                 order=['total_score_18', 'total_score_19'])\n",
    "\n",
    "# Labeling x and y axes\n",
    "plt.xlabel('Score', fontsize=15)\n",
    "plt.ylabel('Year', fontsize=15)\n",
    "\n",
    "# Adding a title\n",
    "plt.title('Total SAT Test Scores Spread for 2018 and 2019', fontsize=20) ;\n",
    "\n",
    "fig.savefig('../assets/boxplot_tot.jpg', dpi=75)\n",
    "\n",
    "plt.show()"
   ]
  },
  {
   "cell_type": "markdown",
   "metadata": {},
   "source": [
    "Above are the boxplots for 2018 and 2019 showing the total SAT score. These show the smallest point and the largest point excluding outliers (minimum and maximum), the median value and 25 percent of values above and below that.  Outliers are shown with a dot outside of the box whisker.\n",
    "\n",
    "These boxplots show an outlier at the high end for 2018's total score - this is New Hampshire with a total SAT score of 1063 (noted from earlier tables)  2019 shows an outlier in the other direction - a mean total score of 943 from West Virginia."
   ]
  },
  {
   "cell_type": "code",
   "execution_count": 120,
   "metadata": {},
   "outputs": [
    {
     "data": {
      "image/png": "[encoded data removed]",
      "text/plain": [
       "<Figure size 864x432 with 1 Axes>"
      ]
     },
     "metadata": {
      "needs_background": "light"
     },
     "output_type": "display_data"
    }
   ],
   "source": [
    "# Plotting box plots for SAT Evidence-Based Reading and Writing subsection scores for years 2018, 2019\n",
    "# Used to examine the spread of the data\n",
    "fig = plt.figure(figsize = (12,6))\n",
    "\n",
    "sns.boxplot(data=sat_final, palette='crest', orient='h', width = 0.6,\n",
    "                 order=['ebrw_score_18', 'ebrw_score_19'])\n",
    "\n",
    "# Labeling x and y axes\n",
    "plt.xlabel('Score', fontsize=15)\n",
    "plt.ylabel('Year', fontsize=15)\n",
    "\n",
    "# Adding a title\n",
    "plt.title('Evidence-Based Reading and Writing\\n SAT Test Sub-Score Spread for 2018 and 2019', fontsize=20) ;\n",
    "\n",
    "fig.savefig('../assets/boxplot_EBRW.jpg', dpi=75)\n",
    "\n",
    "plt.show()"
   ]
  },
  {
   "cell_type": "markdown",
   "metadata": {},
   "source": [
    "Above is the boxplot data spread for the Evidence-Based Reading and writing subsection of the SAT. In it, 2018's score has a much smaller spread with scores clusterd more tightly around the median. There are two outliers, however, at the minimum (497) and maximum (535) ends belonging to the District of Columbia and New Hampshire, respectively.\n",
    "\n",
    "2019 shows a larger spread and a lower median value. Unlike 2018, there are no outliers."
   ]
  },
  {
   "cell_type": "code",
   "execution_count": 121,
   "metadata": {},
   "outputs": [
    {
     "data": {
      "image/png": "[encoded data removed]",
      "text/plain": [
       "<Figure size 864x432 with 1 Axes>"
      ]
     },
     "metadata": {
      "needs_background": "light"
     },
     "output_type": "display_data"
    }
   ],
   "source": [
    "# Plotting box plots for SAT Math subsection scores for years 2018, 2019\n",
    "# Used to examine the spread of the data\n",
    "plt.figure(figsize = (12,6))\n",
    "\n",
    "sns.boxplot(data=sat_final, palette='crest', orient='h', width = 0.6,\n",
    "                 order=['math_score_18', 'math_score_19'])\n",
    "\n",
    "# Labeling x and y axes\n",
    "plt.xlabel('Score', fontsize=15)\n",
    "plt.ylabel('Year', fontsize=15)\n",
    "\n",
    "# Adding a title\n",
    "plt.title('Math SAT Test Sub-Score Spread for 2018 and 2019', fontsize=20) ;\n",
    "\n",
    "fig.savefig('../assets/boxplot_math.jpg', dpi=75)\n",
    "\n",
    "plt.show()"
   ]
  },
  {
   "cell_type": "markdown",
   "metadata": {},
   "source": [
    "Above is are the boxplots for scores from the Math subsection. Trending similarly to the boxplots for the Evidence-Based Reading and Writing subsection, 2018 has a smaller spread while 2019 has a larger spread.\n",
    "\n",
    "2019's narrower spread includes one oulier at the high end (526) belonging to New Hampshire."
   ]
  },
  {
   "cell_type": "code",
   "execution_count": 122,
   "metadata": {},
   "outputs": [
    {
     "data": {
      "image/png": "[encoded data removed]",
      "text/plain": [
       "<Figure size 720x1080 with 3 Axes>"
      ]
     },
     "metadata": {
      "needs_background": "light"
     },
     "output_type": "display_data"
    }
   ],
   "source": [
    "# Plotting multiple graphs in a single space\n",
    "# https://dallascard.github.io/working-with-multiple-plots-in-matplotlib.html\n",
    "# https://matplotlib.org/3.3.3/tutorials/intermediate/gridspec.html#sphx-glr-tutorials-intermediate-gridspec-py\n",
    "# https://matplotlib.org/3.1.0/gallery/subplots_axes_and_figures/align_labels_demo.html#sphx-glr-gallery-subplots-axes-and-figures-align-labels-demo-py\n",
    "\n",
    "fig = plt.figure(figsize=(10,15))\n",
    "\n",
    "# Specify the number of rows, columns, and 'headspace' or distance between graphs\n",
    "gs = GridSpec(nrows=3, ncols=1, hspace = .75) \n",
    "\n",
    "# add Axes to the Figure in specified locations \n",
    "# [what row, what column]\n",
    "plt1 = fig.add_subplot(gs[0, 0]) \n",
    "plt2 = fig.add_subplot(gs[1, 0]) \n",
    "plt3 = fig.add_subplot(gs[2, 0]) \n",
    "\n",
    "# Plot each bar graph\n",
    "plt1.bar(sat_final['state'], (sat_final['total_score_18']) - np.mean(sat_final['total_score_18']))\n",
    "plt1.set_title('2018 Total SAT Scores by State:\\nDifference from the Mean', fontsize=15)\n",
    "plt1.tick_params(labelrotation = 35)\n",
    "plt1.set_ylabel('Score', fontsize=12)\n",
    "plt1.set_xlabel('State', fontsize=12)\n",
    "plt1.plot(np.arange(1., 0., -1.) * 50.)\n",
    "\n",
    "plt2.bar(sat_final['state'], (sat_final['ebrw_score_18'] - np.mean(sat_final['ebrw_score_18'])))\n",
    "plt2.set_title('2018 Evidence-Based Reading and Writing SAT Sub-Scores by State:\\nDifference from the Mean', fontsize=15)\n",
    "plt2.tick_params(labelrotation = 35)\n",
    "plt2.set_ylabel('Score', fontsize=12)\n",
    "plt2.set_xlabel('State', fontsize=12)\n",
    "plt2.plot(np.arange(1., 0., -1.) * 30.)\n",
    "\n",
    "plt3.bar(sat_final['state'], (sat_final['math_score_18'] - np.mean(sat_final['math_score_18'])))\n",
    "plt3.set_title('2018 Math SAT Sub-Scores by State:\\nDifference from the Mean', fontsize=15)\n",
    "plt3.tick_params(labelrotation = 35)\n",
    "plt3.set_ylabel('Score', fontsize=12)\n",
    "plt3.set_xlabel('State', fontsize=12)\n",
    "plt3.plot(np.arange(1., 0., -1.) * 30.)\n",
    "\n",
    "fig.savefig('../assets/2018_score_diff.jpg', dpi=75)\n",
    "\n",
    "plt.show()"
   ]
  },
  {
   "cell_type": "markdown",
   "metadata": {},
   "source": [
    "The series of graphs above shows how many points different each states' test scores were from the mean. For example, a number near the 0 line would indicate that the score for that state was not very different from the mean value for all states. An example of this would be Illinois in the top graph - the bar is very small in the positive direction. Looking back at the mean score tables above, the mean 2018 total score for Illinois was 1019 while the mean for all states' total score was 1016 - a difference of 3 points.\n",
    "\n",
    "The graphs above show that Connecticut and New Hampshire have larger gaps from the mean for all test scores (Total, Evidence-Based Reading and Writing (EBRW), and Math. The District of Columbia, Delaware, and West Virginia have greater differences from the mean for Total scores. For EBRW scores, however, West Virginia performs closer to the mean while Delaware and the District of Columbia lag - much like with total scores.\n",
    "\n",
    "Interestingly, West Virginia's Math score seems to be where their greatest difference from the mean lies (unlike with their EBRW score). The District of Columbia's Math scores are also below the mean by around 20 points."
   ]
  },
  {
   "cell_type": "code",
   "execution_count": 123,
   "metadata": {},
   "outputs": [
    {
     "data": {
      "image/png": "[encoded data removed]",
      "text/plain": [
       "<Figure size 720x1080 with 3 Axes>"
      ]
     },
     "metadata": {
      "needs_background": "light"
     },
     "output_type": "display_data"
    }
   ],
   "source": [
    "# Plotting multiple graphs in a single space\n",
    "# https://dallascard.github.io/working-with-multiple-plots-in-matplotlib.html\n",
    "# https://matplotlib.org/3.3.3/tutorials/intermediate/gridspec.html#sphx-glr-tutorials-intermediate-gridspec-py\n",
    "# https://matplotlib.org/3.1.0/gallery/subplots_axes_and_figures/align_labels_demo.html#sphx-glr-gallery-subplots-axes-and-figures-align-labels-demo-py\n",
    "\n",
    "fig = plt.figure(figsize=(10,15))\n",
    "\n",
    "# Specify the number of rows, columns, and 'headspace' or distance between graphs\n",
    "gs = GridSpec(nrows=3, ncols=1, hspace = .75) \n",
    "\n",
    "# add Axes to the Figure in specified locations\n",
    "# [what row, what column]\n",
    "plt1 = fig.add_subplot(gs[0, 0]) \n",
    "plt2 = fig.add_subplot(gs[1, 0]) \n",
    "plt3 = fig.add_subplot(gs[2, 0])\n",
    "\n",
    "# Plot each bar graph\n",
    "plt1.bar(sat_final['state'], (sat_final['total_score_19']) - np.mean(sat_final['total_score_19']))\n",
    "plt1.set_title('2019 Total SAT Scores by State:\\nDifference from the Mean', fontsize=15)\n",
    "plt1.tick_params(labelrotation = 35)\n",
    "plt1.set_ylabel('Score', fontsize=12)\n",
    "plt1.set_xlabel('State', fontsize=12)\n",
    "plt1.plot(np.arange(1., 0., -1.) * 60.)\n",
    "\n",
    "plt2.bar(sat_final['state'], (sat_final['ebrw_score_19'] - np.mean(sat_final['ebrw_score_19'])))\n",
    "plt2.set_title('2019 Evidence-Based Reading and Writing SAT Sub-Scores by State:\\nDifference from the Mean', fontsize=15)\n",
    "plt2.tick_params(labelrotation = 35)\n",
    "plt2.set_ylabel('Score', fontsize=12)\n",
    "plt2.set_xlabel('State', fontsize=12)\n",
    "plt2.plot(np.arange(1., 0., -1.) * 30.)\n",
    "\n",
    "plt3.bar(sat_final['state'], (sat_final['math_score_19'] - np.mean(sat_final['math_score_19'])))\n",
    "plt3.set_title('2019 Math SAT Sub-Scores by State:\\nDifference from the Mean', fontsize=15)\n",
    "plt3.tick_params(labelrotation = 35)\n",
    "plt3.set_ylabel('Score', fontsize=12)\n",
    "plt3.set_xlabel('State', fontsize=12)\n",
    "plt3.plot(np.arange(1., 0., -1.) * 30.)\n",
    "\n",
    "fig.savefig('../assets/2019_score_diff.jpg', dpi=75)\n",
    "\n",
    "plt.show()"
   ]
  },
  {
   "cell_type": "markdown",
   "metadata": {},
   "source": [
    "The 2019 SAT data show similar trends as 2018. New Hampshire and Connecticut continue to perform above the mean for Total, EBRW, and Math scores. New Hampshire outperforms the mean by around 50, 20, and 30 points for the Total, EBRW, and Math sections, respectively.\n",
    "\n",
    "Like with 2018, the District of Columbia and West Virginia perform below the mean with West Virginia seeing the greatest negative gap for Total, EBRW and Math - 60, 25, and 35.\n",
    "\n",
    "Of note, Michigan's mean test score for Math fit the mean for all States' Math score and so no bar noting difference was shown."
   ]
  },
  {
   "cell_type": "code",
   "execution_count": 134,
   "metadata": {},
   "outputs": [],
   "source": [
    "# Function to plot bar charts for specified data series or column, year of interest, \n",
    "# and sub-test of interest (total, Evidence-Based Reading and Writing, Math)\n",
    "def bar_plot(data_col, year, subscore):\n",
    "    # typically, you create your canvas first\n",
    "    fig = plt.figure(figsize=(15,5))\n",
    "\n",
    "    # BAR CHART\n",
    "    plt.bar(sat_final['state'], # x-axis\n",
    "            sat_final[data_col] # height. y-axis\n",
    "            )\n",
    "\n",
    "    # adjust the labels along the x axis - rotate xticks\n",
    "    plt.xticks(rotation=40)\n",
    "\n",
    "    # Axis lables\n",
    "    plt.xlabel('State', fontsize=15)\n",
    "    plt.ylabel('SAT Score', fontsize=15)\n",
    "\n",
    "    # Title\n",
    "    plt.title(f'{year} {subscore} SAT Scores by State', fontsize=20) \n",
    "\n",
    "    # Plot a horizontal line to show the mean of all bars\n",
    "    plt.axhline(np.mean(sat_final[data_col]) ,color=\"red\")\n",
    "\n",
    "    # Exporting each figure into the 'assets' folder\n",
    "    fig.savefig(f'../assets/{year}_{subscore}.jpg', dpi=75)\n",
    "    \n",
    "    # Plotting the graph\n",
    "    plt.show()\n"
   ]
  },
  {
   "cell_type": "code",
   "execution_count": 136,
   "metadata": {},
   "outputs": [
    {
     "data": {
      "image/png": "[encoded data removed]",
      "text/plain": [
       "<Figure size 1080x360 with 1 Axes>"
      ]
     },
     "metadata": {
      "needs_background": "light"
     },
     "output_type": "display_data"
    }
   ],
   "source": [
    "bar_plot('total_score_18', 2018, 'Total')"
   ]
  },
  {
   "cell_type": "code",
   "execution_count": 137,
   "metadata": {},
   "outputs": [
    {
     "data": {
      "image/png": "[encoded data removed]",
      "text/plain": [
       "<Figure size 1080x360 with 1 Axes>"
      ]
     },
     "metadata": {
      "needs_background": "light"
     },
     "output_type": "display_data"
    }
   ],
   "source": [
    "bar_plot('total_score_19', 2019, 'Total')"
   ]
  },
  {
   "cell_type": "code",
   "execution_count": 138,
   "metadata": {},
   "outputs": [
    {
     "data": {
      "image/png": "[encoded data removed]",
      "text/plain": [
       "<Figure size 1080x360 with 1 Axes>"
      ]
     },
     "metadata": {
      "needs_background": "light"
     },
     "output_type": "display_data"
    }
   ],
   "source": [
    "bar_plot('ebrw_score_18', 2018, 'Evidence-Based Reading and Writing')"
   ]
  },
  {
   "cell_type": "code",
   "execution_count": 139,
   "metadata": {},
   "outputs": [
    {
     "data": {
      "image/png": "[encoded data removed]",
      "text/plain": [
       "<Figure size 1080x360 with 1 Axes>"
      ]
     },
     "metadata": {
      "needs_background": "light"
     },
     "output_type": "display_data"
    }
   ],
   "source": [
    "bar_plot('ebrw_score_19', 2019, 'Evidence-Based Reading and Writing')"
   ]
  },
  {
   "cell_type": "code",
   "execution_count": 140,
   "metadata": {},
   "outputs": [
    {
     "data": {
      "image/png": "[encoded data removed]",
      "text/plain": [
       "<Figure size 1080x360 with 1 Axes>"
      ]
     },
     "metadata": {
      "needs_background": "light"
     },
     "output_type": "display_data"
    }
   ],
   "source": [
    "bar_plot('math_score_18', 2018, 'Math')"
   ]
  },
  {
   "cell_type": "code",
   "execution_count": 141,
   "metadata": {},
   "outputs": [
    {
     "data": {
      "image/png": "[encoded data removed]",
      "text/plain": [
       "<Figure size 1080x360 with 1 Axes>"
      ]
     },
     "metadata": {
      "needs_background": "light"
     },
     "output_type": "display_data"
    }
   ],
   "source": [
    "bar_plot('math_score_19', 2019, 'Math')"
   ]
  },
  {
   "cell_type": "markdown",
   "metadata": {},
   "source": [
    "The above series of bar graphs shows much the same information as the 'Difference from the Mean' graphs further above. Individually, each graph shows each state with their total SAT score or subscore in comparison to other states with similar requirements. A horizontal red line indicates the mean value for that score or subscore.\n",
    "\n",
    "Consistent with earlier findings, New Hampshire and Connecticut have higher mean Total scores and EBRW and Math subscores. West Virginia and the District of Columbia consistently lag beneath the means for the Total and subscore groups."
   ]
  },
  {
   "cell_type": "markdown",
   "metadata": {},
   "source": [
    "## Conclusions and Recommendations"
   ]
  },
  {
   "cell_type": "markdown",
   "metadata": {},
   "source": [
    "Based on your exploration of the data, what are you key takeaways and recommendations? Make sure to answer your question of interest or address your problem statement here."
   ]
  },
  {
   "cell_type": "markdown",
   "metadata": {},
   "source": [
    "*Ten states and the District of Columbia require the SAT as a graduation requirement or offer its administratin free of charge. This project examines the sub-scores (Math and Evidence-Based Reading and Writing) so these states can allocate funding or make curriculum adjustments for subjects in test areas exhibiting poor sub-scores.*\n",
    "\n",
    "**Conclusions**\n",
    "\n",
    "States with lower than the mean subscores for one section of the SAT tend to have lower scores for the other subsection. This is especially true for states where the difference from the mean is several points lower. This trend also holds for states with scores in the positive direction above the mean. This is consistent for each state whether the year examined in 2018 or 2019.\n",
    "\n",
    "Additionally, EBRW and Math subscores tend to be the same amount of points away from the mean for each individual state. This pattern tends to hold for both 2018 and 2019 for each state.\n",
    "\n",
    "*See graphs and tables in the 'assets' folder for greater detail.\n",
    "\n",
    "**Recommendations**\n",
    "\n",
    "* Examine higher scoring states. What are New Hampshire and Connecticut doing well within their educational curriculums that lead to higher than mean scores?\n",
    "    * The Distric of Columbia and West Virginia have lowest mean subscores and may benefit from working with officials in New Hampshire and Connecticut.\n",
    "\n",
    "* Consider offering state-level designed SAT practice or preparation free of charge to all students.\n",
    "\n",
    "* Suggest non-school related prep courses to interested students\n",
    "    * Some SAT prep costs money and some are offered free of charge\n",
    "        * Cost: ([*Princeton Review*](https://www.princetonreview.com/college/sat-test-prep))\n",
    "        * Free: ([*Khan Academy*](https://www.khanacademy.org/sat))"
   ]
  },
  {
   "cell_type": "markdown",
   "metadata": {},
   "source": [
    "## Sources\n",
    "(1) https://blog.prepscholar.com/which-states-require-the-sat\n",
    "(2) https://www.princetonreview.com/college/sat-sections\n",
    "(3) https://collegereadiness.collegeboard.org/pdf/understanding-sat-scores.pdf\n",
    "(4) https://www.statisticshowto.com/self-selection-bias/\n",
    "(5) https://fredrikdeboer.com/2017/03/29/why-selection-bias-is-the-most-powerful-force-in-education/\n",
    "(6) https://www.princetonreview.com/college/sat-test-prep\n",
    "(7) https://www.khanacademy.org/sat"
   ]
  },
  {
   "cell_type": "code",
   "execution_count": null,
   "metadata": {},
   "outputs": [],
   "source": []
  }
 ],
 "metadata": {
  "anaconda-cloud": {},
  "kernelspec": {
   "display_name": "Python 3",
   "language": "python",
   "name": "python3"
  },
  "language_info": {
   "codemirror_mode": {
    "name": "ipython",
    "version": 3
   },
   "file_extension": ".py",
   "mimetype": "text/x-python",
   "name": "python",
   "nbconvert_exporter": "python",
   "pygments_lexer": "ipython3",
   "version": "3.8.8"
  }
 },
 "nbformat": 4,
 "nbformat_minor": 4
}
